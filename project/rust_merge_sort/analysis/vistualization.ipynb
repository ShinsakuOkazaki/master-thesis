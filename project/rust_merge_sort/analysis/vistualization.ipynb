{
 "cells": [
  {
   "cell_type": "code",
   "execution_count": 8,
   "metadata": {},
   "outputs": [],
   "source": [
    "import pandas as pd\n",
    "import numpy as np\n",
    "import matplotlib.pyplot as plt"
   ]
  },
  {
   "cell_type": "code",
   "execution_count": 9,
   "metadata": {},
   "outputs": [],
   "source": [
    "def getDf():\n",
    "    files = {}\n",
    "    for size in [1000000, 2000000, 3000000, 4000000]:\n",
    "        with open(\"../result/resultMergesort_{}.txt\".format(size), \"r\") as f:\n",
    "            files[\"size{}\".format(size)] = [s.strip().split(\"#\") for s in f.readlines()]\n",
    "\n",
    "    dfs = {}\n",
    "    for k in files.keys():\n",
    "        df = pd.DataFrame(files[k])\n",
    "        new_header = df.iloc[0]\n",
    "        df = df[1:]\n",
    "        df.columns = new_header\n",
    "        dfs[k] = df\n",
    "    data = dfs['size1000000']\n",
    "    for s in [2000000, 3000000, 4000000]:\n",
    "        data = pd.concat([data, dfs[\"size{}\".format(s)]])\n",
    "    data = data.astype({\"datastructure\": str, \"size\": int, \"method\": str, \"sorttime\":int})\n",
    "    return data"
   ]
  },
  {
   "cell_type": "code",
   "execution_count": 10,
   "metadata": {},
   "outputs": [],
   "source": [
    "df = getDf()"
   ]
  },
  {
   "cell_type": "code",
   "execution_count": 11,
   "metadata": {},
   "outputs": [],
   "source": [
    "df_avg = df.groupby([\"size\", \"method\"]).mean().reset_index()"
   ]
  },
  {
   "cell_type": "code",
   "execution_count": 12,
   "metadata": {},
   "outputs": [
    {
     "data": {
      "text/html": [
       "<div>\n",
       "<style scoped>\n",
       "    .dataframe tbody tr th:only-of-type {\n",
       "        vertical-align: middle;\n",
       "    }\n",
       "\n",
       "    .dataframe tbody tr th {\n",
       "        vertical-align: top;\n",
       "    }\n",
       "\n",
       "    .dataframe thead th {\n",
       "        text-align: right;\n",
       "    }\n",
       "</style>\n",
       "<table border=\"1\" class=\"dataframe\">\n",
       "  <thead>\n",
       "    <tr style=\"text-align: right;\">\n",
       "      <th></th>\n",
       "      <th>size</th>\n",
       "      <th>method</th>\n",
       "      <th>sorttime</th>\n",
       "    </tr>\n",
       "  </thead>\n",
       "  <tbody>\n",
       "    <tr>\n",
       "      <td>0</td>\n",
       "      <td>1000000</td>\n",
       "      <td>\"scope\"</td>\n",
       "      <td>1377312.6</td>\n",
       "    </tr>\n",
       "    <tr>\n",
       "      <td>1</td>\n",
       "      <td>1000000</td>\n",
       "      <td>\"shared\"</td>\n",
       "      <td>1736398.6</td>\n",
       "    </tr>\n",
       "    <tr>\n",
       "      <td>2</td>\n",
       "      <td>2000000</td>\n",
       "      <td>\"scope\"</td>\n",
       "      <td>2793269.6</td>\n",
       "    </tr>\n",
       "    <tr>\n",
       "      <td>3</td>\n",
       "      <td>2000000</td>\n",
       "      <td>\"shared\"</td>\n",
       "      <td>3542053.4</td>\n",
       "    </tr>\n",
       "    <tr>\n",
       "      <td>4</td>\n",
       "      <td>3000000</td>\n",
       "      <td>\"scope\"</td>\n",
       "      <td>4296618.0</td>\n",
       "    </tr>\n",
       "    <tr>\n",
       "      <td>5</td>\n",
       "      <td>3000000</td>\n",
       "      <td>\"shared\"</td>\n",
       "      <td>5214792.0</td>\n",
       "    </tr>\n",
       "    <tr>\n",
       "      <td>6</td>\n",
       "      <td>4000000</td>\n",
       "      <td>\"scope\"</td>\n",
       "      <td>5705701.4</td>\n",
       "    </tr>\n",
       "    <tr>\n",
       "      <td>7</td>\n",
       "      <td>4000000</td>\n",
       "      <td>\"shared\"</td>\n",
       "      <td>7049211.4</td>\n",
       "    </tr>\n",
       "  </tbody>\n",
       "</table>\n",
       "</div>"
      ],
      "text/plain": [
       "0     size    method   sorttime\n",
       "0  1000000   \"scope\"  1377312.6\n",
       "1  1000000  \"shared\"  1736398.6\n",
       "2  2000000   \"scope\"  2793269.6\n",
       "3  2000000  \"shared\"  3542053.4\n",
       "4  3000000   \"scope\"  4296618.0\n",
       "5  3000000  \"shared\"  5214792.0\n",
       "6  4000000   \"scope\"  5705701.4\n",
       "7  4000000  \"shared\"  7049211.4"
      ]
     },
     "execution_count": 12,
     "metadata": {},
     "output_type": "execute_result"
    }
   ],
   "source": [
    "df_avg"
   ]
  },
  {
   "cell_type": "code",
   "execution_count": 13,
   "metadata": {},
   "outputs": [],
   "source": [
    "def autolabel(rects, ax):\n",
    "    \"\"\"Attach a text label above each bar in *rects*, displaying its height.\"\"\"\n",
    "    for rect in rects:\n",
    "        height = rect.get_height()\n",
    "        ax.annotate('{}'.format(height),\n",
    "                    xy=(rect.get_x() + rect.get_width() / 2, round(height, 3)),\n",
    "                    xytext=(0, 3),  # 3 points vertical offset\n",
    "                    textcoords=\"offset points\",\n",
    "                    ha='center', va='bottom', fontsize = 12)"
   ]
  },
  {
   "cell_type": "code",
   "execution_count": 14,
   "metadata": {},
   "outputs": [
    {
     "name": "stderr",
     "output_type": "stream",
     "text": [
      "The PostScript backend does not support transparency; partially transparent artists will be rendered opaque.\n",
      "The PostScript backend does not support transparency; partially transparent artists will be rendered opaque.\n"
     ]
    },
    {
     "data": {
      "image/png": "[encoded data removed]",
      "text/plain": [
       "<Figure size 1080x720 with 1 Axes>"
      ]
     },
     "metadata": {
      "needs_background": "light"
     },
     "output_type": "display_data"
    }
   ],
   "source": [
    "scope = df_avg[df_avg[\"method\"] == '\"scope\"']\n",
    "shared = df_avg[df_avg[\"method\"] == '\"shared\"']\n",
    "fig, ax = plt.subplots(figsize = (15, 10))\n",
    "w = 0.2\n",
    "idx = np.arange(df_avg['size'].nunique())\n",
    "b1 = ax.bar(idx - w / 2, round(scope[\"sorttime\"] / 1000000, 2), width = w, color ='b', align = 'center')\n",
    "b2 = ax.bar(idx + w / 2, round(shared[\"sorttime\"] / 1000000, 2), width = w, color ='y', align = 'center')\n",
    "label = np.sort(df_avg['size'].unique())\n",
    "ax.set_xticks(idx)\n",
    "ax.set_xticklabels(label)\n",
    "ax.set_xlabel(\"Number of Object\", fontsize = 15)\n",
    "ax.set_ylabel(\"Runtime of sortting elements of Customer vector(seconds)\", fontsize = 15)\n",
    "ax.set_title(\"Runtime of Sortting Elements of Customer Vector\", fontsize = 15)\n",
    "autolabel(b1, ax)\n",
    "autolabel(b2, ax)\n",
    "ax.legend((b1, b2), (\"Without Arc\", \"With Arc\"))\n",
    "##ax.set_yscale('log')\n",
    "fig.savefig(\"rust_merge_sort.eps\")\n",
    "plt.show()"
   ]
  },
  {
   "cell_type": "code",
   "execution_count": null,
   "metadata": {},
   "outputs": [],
   "source": []
  },
  {
   "cell_type": "code",
   "execution_count": null,
   "metadata": {},
   "outputs": [],
   "source": []
  }
 ],
 "metadata": {
  "kernelspec": {
   "display_name": "Python 3",
   "language": "python",
   "name": "python3"
  },
  "language_info": {
   "codemirror_mode": {
    "name": "ipython",
    "version": 3
   },
   "file_extension": ".py",
   "mimetype": "text/x-python",
   "name": "python",
   "nbconvert_exporter": "python",
   "pygments_lexer": "ipython3",
   "version": "3.7.4"
  },
  "latex_envs": {
   "LaTeX_envs_menu_present": true,
   "autoclose": false,
   "autocomplete": true,
   "bibliofile": "biblio.bib",
   "cite_by": "apalike",
   "current_citInitial": 1,
   "eqLabelWithNumbers": true,
   "eqNumInitial": 1,
   "hotkeys": {
    "equation": "Ctrl-E",
    "itemize": "Ctrl-I"
   },
   "labels_anchors": false,
   "latex_user_defs": false,
   "report_style_numbering": false,
   "user_envs_cfg": false
  }
 },
 "nbformat": 4,
 "nbformat_minor": 2
}
