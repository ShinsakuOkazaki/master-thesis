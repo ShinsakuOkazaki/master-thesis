{
 "cells": [
  {
   "cell_type": "code",
   "execution_count": null,
   "metadata": {},
   "outputs": [],
   "source": [
    "files = {}\n",
    "for size in range(1, 5):\n",
    "    with open(\"resultJavaAllocObject_{}.txt\".format(size), \"r\") as f:\n",
    "        files[\"size{}\".format(size)] = [s.strip().split(\"#\") for s in f.readlines()]\n",
    "        \n",
    "dfs = {}\n",
    "for k in files.keys():\n",
    "    df = pd.DataFrame(files[k])\n",
    "    new_header = df.iloc[0]\n",
    "    df = df[1:]\n",
    "    df.columns = new_header\n",
    "    for col in [\"size\", 'inittime', 'addtime', 'totaltime']:\n",
    "        df[col] = df[col].map(lambda x: int(x))\n",
    "    df['initialization'] = df['initialization'].map(lambda x: True if x == \"true\" else False)\n",
    "    dfs[k] = df\n",
    "    \n",
    "df = dfs['size1']\n",
    "for s in range(2, 5):\n",
    "    df_java_object = pd.concat([df, dfs[\"size{}\".format(s)]])"
   ]
  },
  {
   "cell_type": "code",
   "execution_count": 3,
   "metadata": {},
   "outputs": [],
   "source": [
    "def getDf(data_structure):\n",
    "    files = {}\n",
    "    for size in range(1, 5):\n",
    "        with open(\"result{}_{}.txt\".format(data_structure, size), \"r\") as f:\n",
    "            files[\"size{}\".format(size)] = [s.strip().split(\"#\") for s in f.readlines()]\n",
    "        \n",
    "    dfs = {}\n",
    "    for k in files.keys():\n",
    "        df = pd.DataFrame(files[k])\n",
    "        new_header = df.iloc[0]\n",
    "        df = df[1:]\n",
    "        df.columns = new_header\n",
    "        for col in [\"size\", 'inittime', 'addtime', 'totaltime']:\n",
    "            df[col] = df[col].map(lambda x: int(x))\n",
    "        df['initialization'] = df['initialization'].map(lambda x: True if x == \"true\" else False)\n",
    "        dfs[k] = df\n",
    "    df = dfs['size1']\n",
    "    for s in range(2, 5):\n",
    "        df = pd.concat([df, dfs[\"size{}\".format(s)]])\n",
    "    return df"
   ]
  },
  {
   "cell_type": "code",
   "execution_count": null,
   "metadata": {},
   "outputs": [],
   "source": [
    "df_java_object = getDf()"
   ]
  },
  {
   "cell_type": "code",
   "execution_count": null,
   "metadata": {},
   "outputs": [],
   "source": [
    "files = {}\n",
    "for size in range(1, 5):\n",
    "    with open(\"resultJavaAllocCharArr_{}.txt\".format(size), \"r\") as f:\n",
    "        files[\"size{}\".format(size)] = [s.strip().split(\"#\") for s in f.readlines()]\n",
    "        \n",
    "dfs = {}\n",
    "for k in files.keys():\n",
    "    df = pd.DataFrame(files[k])\n",
    "    new_header = df.iloc[0]\n",
    "    df = df[1:]\n",
    "    df.columns = new_header\n",
    "    for col in [\"size\", 'inittime', 'addtime', 'totaltime']:\n",
    "        df[col] = df[col].map(lambda x: int(x))\n",
    "    df['initialization'] = df['initialization'].map(lambda x: True if x == \"true\" else False)\n",
    "    dfs[k] = df\n",
    "    \n",
    "df = dfs['size1']\n",
    "for s in range(2, 5):\n",
    "    df_java_charArr = pd.concat([df, dfs[\"size{}\".format(s)]])"
   ]
  }
 ],
 "metadata": {
  "kernelspec": {
   "display_name": "Python 3",
   "language": "python",
   "name": "python3"
  },
  "language_info": {
   "codemirror_mode": {
    "name": "ipython",
    "version": 3
   },
   "file_extension": ".py",
   "mimetype": "text/x-python",
   "name": "python",
   "nbconvert_exporter": "python",
   "pygments_lexer": "ipython3",
   "version": "3.7.4"
  },
  "latex_envs": {
   "LaTeX_envs_menu_present": true,
   "autoclose": false,
   "autocomplete": true,
   "bibliofile": "biblio.bib",
   "cite_by": "apalike",
   "current_citInitial": 1,
   "eqLabelWithNumbers": true,
   "eqNumInitial": 1,
   "hotkeys": {
    "equation": "Ctrl-E",
    "itemize": "Ctrl-I"
   },
   "labels_anchors": false,
   "latex_user_defs": false,
   "report_style_numbering": false,
   "user_envs_cfg": false
  }
 },
 "nbformat": 4,
 "nbformat_minor": 2
}
