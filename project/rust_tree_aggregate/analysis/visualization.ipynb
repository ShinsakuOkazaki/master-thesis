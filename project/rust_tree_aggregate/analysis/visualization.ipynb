{
 "cells": [
  {
   "cell_type": "code",
   "execution_count": 1,
   "metadata": {},
   "outputs": [],
   "source": [
    "import pandas as pd\n",
    "import numpy as np\n",
    "import matplotlib.pyplot as plt"
   ]
  },
  {
   "cell_type": "code",
   "execution_count": 8,
   "metadata": {},
   "outputs": [],
   "source": [
    "def getDf():\n",
    "    files = {}\n",
    "    for size in [1000000, 2000000, 3000000, 4000000]:\n",
    "        with open(\"../result/resultTreeAggregate_{}.txt\".format(size), \"r\") as f:\n",
    "            files[\"size{}\".format(size)] = [s.strip().split(\"#\") for s in f.readlines()]\n",
    "\n",
    "    dfs = {}\n",
    "    for k in files.keys():\n",
    "        df = pd.DataFrame(files[k])\n",
    "        new_header = df.iloc[0]\n",
    "        df = df[1:]\n",
    "        df.columns = new_header\n",
    "        dfs[k] = df\n",
    "    data = dfs['size1000000']\n",
    "    for s in [2000000, 3000000, 4000000]:\n",
    "        data = pd.concat([data, dfs[\"size{}\".format(s)]])\n",
    "    data = data.astype({\"datastructure\": str, \"size\": int, \"partnumber\": int, \"method\": str, \"aggtime\":int, \"accesstime\": int})\n",
    "    return data"
   ]
  },
  {
   "cell_type": "code",
   "execution_count": 9,
   "metadata": {},
   "outputs": [],
   "source": [
    "df = getDf()"
   ]
  },
  {
   "cell_type": "code",
   "execution_count": 39,
   "metadata": {},
   "outputs": [],
   "source": [
    "df_avg = df.groupby([\"size\", \"partnumber\",\"method\"]).mean().reset_index()"
   ]
  },
  {
   "cell_type": "code",
   "execution_count": 40,
   "metadata": {},
   "outputs": [
    {
     "data": {
      "text/html": [
       "<div>\n",
       "<style scoped>\n",
       "    .dataframe tbody tr th:only-of-type {\n",
       "        vertical-align: middle;\n",
       "    }\n",
       "\n",
       "    .dataframe tbody tr th {\n",
       "        vertical-align: top;\n",
       "    }\n",
       "\n",
       "    .dataframe thead th {\n",
       "        text-align: right;\n",
       "    }\n",
       "</style>\n",
       "<table border=\"1\" class=\"dataframe\">\n",
       "  <thead>\n",
       "    <tr style=\"text-align: right;\">\n",
       "      <th></th>\n",
       "      <th>size</th>\n",
       "      <th>partnumber</th>\n",
       "      <th>method</th>\n",
       "      <th>aggtime</th>\n",
       "      <th>accesstime</th>\n",
       "    </tr>\n",
       "  </thead>\n",
       "  <tbody>\n",
       "    <tr>\n",
       "      <td>0</td>\n",
       "      <td>1000000</td>\n",
       "      <td>7</td>\n",
       "      <td>\"copy\"</td>\n",
       "      <td>12380324.8</td>\n",
       "      <td>10225.6</td>\n",
       "    </tr>\n",
       "    <tr>\n",
       "      <td>1</td>\n",
       "      <td>1000000</td>\n",
       "      <td>7</td>\n",
       "      <td>\"shared\"</td>\n",
       "      <td>9995437.2</td>\n",
       "      <td>11034.6</td>\n",
       "    </tr>\n",
       "    <tr>\n",
       "      <td>2</td>\n",
       "      <td>1000000</td>\n",
       "      <td>15</td>\n",
       "      <td>\"copy\"</td>\n",
       "      <td>11694998.4</td>\n",
       "      <td>10677.6</td>\n",
       "    </tr>\n",
       "    <tr>\n",
       "      <td>3</td>\n",
       "      <td>1000000</td>\n",
       "      <td>15</td>\n",
       "      <td>\"shared\"</td>\n",
       "      <td>11272179.0</td>\n",
       "      <td>11636.6</td>\n",
       "    </tr>\n",
       "    <tr>\n",
       "      <td>4</td>\n",
       "      <td>1000000</td>\n",
       "      <td>31</td>\n",
       "      <td>\"copy\"</td>\n",
       "      <td>12443509.0</td>\n",
       "      <td>10932.0</td>\n",
       "    </tr>\n",
       "    <tr>\n",
       "      <td>5</td>\n",
       "      <td>1000000</td>\n",
       "      <td>31</td>\n",
       "      <td>\"shared\"</td>\n",
       "      <td>11175277.8</td>\n",
       "      <td>11654.6</td>\n",
       "    </tr>\n",
       "    <tr>\n",
       "      <td>6</td>\n",
       "      <td>2000000</td>\n",
       "      <td>7</td>\n",
       "      <td>\"copy\"</td>\n",
       "      <td>29342696.0</td>\n",
       "      <td>20452.8</td>\n",
       "    </tr>\n",
       "    <tr>\n",
       "      <td>7</td>\n",
       "      <td>2000000</td>\n",
       "      <td>7</td>\n",
       "      <td>\"shared\"</td>\n",
       "      <td>19895647.0</td>\n",
       "      <td>22164.8</td>\n",
       "    </tr>\n",
       "    <tr>\n",
       "      <td>8</td>\n",
       "      <td>2000000</td>\n",
       "      <td>15</td>\n",
       "      <td>\"copy\"</td>\n",
       "      <td>28310622.4</td>\n",
       "      <td>21966.6</td>\n",
       "    </tr>\n",
       "    <tr>\n",
       "      <td>9</td>\n",
       "      <td>2000000</td>\n",
       "      <td>15</td>\n",
       "      <td>\"shared\"</td>\n",
       "      <td>22654443.6</td>\n",
       "      <td>23055.2</td>\n",
       "    </tr>\n",
       "    <tr>\n",
       "      <td>10</td>\n",
       "      <td>2000000</td>\n",
       "      <td>31</td>\n",
       "      <td>\"copy\"</td>\n",
       "      <td>24528370.0</td>\n",
       "      <td>22663.8</td>\n",
       "    </tr>\n",
       "    <tr>\n",
       "      <td>11</td>\n",
       "      <td>2000000</td>\n",
       "      <td>31</td>\n",
       "      <td>\"shared\"</td>\n",
       "      <td>23061614.4</td>\n",
       "      <td>23931.4</td>\n",
       "    </tr>\n",
       "    <tr>\n",
       "      <td>12</td>\n",
       "      <td>3000000</td>\n",
       "      <td>7</td>\n",
       "      <td>\"copy\"</td>\n",
       "      <td>40531208.6</td>\n",
       "      <td>30149.2</td>\n",
       "    </tr>\n",
       "    <tr>\n",
       "      <td>13</td>\n",
       "      <td>3000000</td>\n",
       "      <td>7</td>\n",
       "      <td>\"shared\"</td>\n",
       "      <td>29370182.4</td>\n",
       "      <td>33454.4</td>\n",
       "    </tr>\n",
       "    <tr>\n",
       "      <td>14</td>\n",
       "      <td>3000000</td>\n",
       "      <td>15</td>\n",
       "      <td>\"copy\"</td>\n",
       "      <td>38886810.8</td>\n",
       "      <td>31767.4</td>\n",
       "    </tr>\n",
       "    <tr>\n",
       "      <td>15</td>\n",
       "      <td>3000000</td>\n",
       "      <td>15</td>\n",
       "      <td>\"shared\"</td>\n",
       "      <td>32718293.4</td>\n",
       "      <td>34513.2</td>\n",
       "    </tr>\n",
       "    <tr>\n",
       "      <td>16</td>\n",
       "      <td>3000000</td>\n",
       "      <td>31</td>\n",
       "      <td>\"copy\"</td>\n",
       "      <td>36949423.8</td>\n",
       "      <td>32370.6</td>\n",
       "    </tr>\n",
       "    <tr>\n",
       "      <td>17</td>\n",
       "      <td>3000000</td>\n",
       "      <td>31</td>\n",
       "      <td>\"shared\"</td>\n",
       "      <td>33367536.8</td>\n",
       "      <td>34928.0</td>\n",
       "    </tr>\n",
       "    <tr>\n",
       "      <td>18</td>\n",
       "      <td>4000000</td>\n",
       "      <td>7</td>\n",
       "      <td>\"copy\"</td>\n",
       "      <td>55323197.4</td>\n",
       "      <td>41080.8</td>\n",
       "    </tr>\n",
       "    <tr>\n",
       "      <td>19</td>\n",
       "      <td>4000000</td>\n",
       "      <td>7</td>\n",
       "      <td>\"shared\"</td>\n",
       "      <td>40014068.8</td>\n",
       "      <td>43282.2</td>\n",
       "    </tr>\n",
       "    <tr>\n",
       "      <td>20</td>\n",
       "      <td>4000000</td>\n",
       "      <td>15</td>\n",
       "      <td>\"copy\"</td>\n",
       "      <td>53860499.6</td>\n",
       "      <td>42813.8</td>\n",
       "    </tr>\n",
       "    <tr>\n",
       "      <td>21</td>\n",
       "      <td>4000000</td>\n",
       "      <td>15</td>\n",
       "      <td>\"shared\"</td>\n",
       "      <td>43982552.8</td>\n",
       "      <td>44728.6</td>\n",
       "    </tr>\n",
       "    <tr>\n",
       "      <td>22</td>\n",
       "      <td>4000000</td>\n",
       "      <td>31</td>\n",
       "      <td>\"copy\"</td>\n",
       "      <td>49868666.6</td>\n",
       "      <td>43202.8</td>\n",
       "    </tr>\n",
       "    <tr>\n",
       "      <td>23</td>\n",
       "      <td>4000000</td>\n",
       "      <td>31</td>\n",
       "      <td>\"shared\"</td>\n",
       "      <td>45448844.2</td>\n",
       "      <td>45925.0</td>\n",
       "    </tr>\n",
       "  </tbody>\n",
       "</table>\n",
       "</div>"
      ],
      "text/plain": [
       "0      size  partnumber    method     aggtime  accesstime\n",
       "0   1000000           7    \"copy\"  12380324.8     10225.6\n",
       "1   1000000           7  \"shared\"   9995437.2     11034.6\n",
       "2   1000000          15    \"copy\"  11694998.4     10677.6\n",
       "3   1000000          15  \"shared\"  11272179.0     11636.6\n",
       "4   1000000          31    \"copy\"  12443509.0     10932.0\n",
       "5   1000000          31  \"shared\"  11175277.8     11654.6\n",
       "6   2000000           7    \"copy\"  29342696.0     20452.8\n",
       "7   2000000           7  \"shared\"  19895647.0     22164.8\n",
       "8   2000000          15    \"copy\"  28310622.4     21966.6\n",
       "9   2000000          15  \"shared\"  22654443.6     23055.2\n",
       "10  2000000          31    \"copy\"  24528370.0     22663.8\n",
       "11  2000000          31  \"shared\"  23061614.4     23931.4\n",
       "12  3000000           7    \"copy\"  40531208.6     30149.2\n",
       "13  3000000           7  \"shared\"  29370182.4     33454.4\n",
       "14  3000000          15    \"copy\"  38886810.8     31767.4\n",
       "15  3000000          15  \"shared\"  32718293.4     34513.2\n",
       "16  3000000          31    \"copy\"  36949423.8     32370.6\n",
       "17  3000000          31  \"shared\"  33367536.8     34928.0\n",
       "18  4000000           7    \"copy\"  55323197.4     41080.8\n",
       "19  4000000           7  \"shared\"  40014068.8     43282.2\n",
       "20  4000000          15    \"copy\"  53860499.6     42813.8\n",
       "21  4000000          15  \"shared\"  43982552.8     44728.6\n",
       "22  4000000          31    \"copy\"  49868666.6     43202.8\n",
       "23  4000000          31  \"shared\"  45448844.2     45925.0"
      ]
     },
     "execution_count": 40,
     "metadata": {},
     "output_type": "execute_result"
    }
   ],
   "source": [
    "df_avg"
   ]
  },
  {
   "cell_type": "code",
   "execution_count": 41,
   "metadata": {},
   "outputs": [],
   "source": [
    "def autolabel(rects, ax):\n",
    "    \"\"\"Attach a text label above each bar in *rects*, displaying its height.\"\"\"\n",
    "    for rect in rects:\n",
    "        height = rect.get_height()\n",
    "        ax.annotate('{}'.format(height),\n",
    "                    xy=(rect.get_x() + rect.get_width() / 2, round(height, 3)),\n",
    "                    xytext=(0, 3),  # 3 points vertical offset\n",
    "                    textcoords=\"offset points\",\n",
    "                    ha='center', va='bottom', fontsize = 12)"
   ]
  },
  {
   "cell_type": "code",
   "execution_count": 42,
   "metadata": {},
   "outputs": [
    {
     "data": {
      "text/html": [
       "<div>\n",
       "<style scoped>\n",
       "    .dataframe tbody tr th:only-of-type {\n",
       "        vertical-align: middle;\n",
       "    }\n",
       "\n",
       "    .dataframe tbody tr th {\n",
       "        vertical-align: top;\n",
       "    }\n",
       "\n",
       "    .dataframe thead th {\n",
       "        text-align: right;\n",
       "    }\n",
       "</style>\n",
       "<table border=\"1\" class=\"dataframe\">\n",
       "  <thead>\n",
       "    <tr style=\"text-align: right;\">\n",
       "      <th></th>\n",
       "      <th>size</th>\n",
       "      <th>partnumber</th>\n",
       "      <th>method</th>\n",
       "      <th>aggtime</th>\n",
       "      <th>accesstime</th>\n",
       "    </tr>\n",
       "  </thead>\n",
       "  <tbody>\n",
       "    <tr>\n",
       "      <td>0</td>\n",
       "      <td>1000000</td>\n",
       "      <td>7</td>\n",
       "      <td>\"copy\"</td>\n",
       "      <td>12380324.8</td>\n",
       "      <td>10225.6</td>\n",
       "    </tr>\n",
       "    <tr>\n",
       "      <td>6</td>\n",
       "      <td>2000000</td>\n",
       "      <td>7</td>\n",
       "      <td>\"copy\"</td>\n",
       "      <td>29342696.0</td>\n",
       "      <td>20452.8</td>\n",
       "    </tr>\n",
       "    <tr>\n",
       "      <td>12</td>\n",
       "      <td>3000000</td>\n",
       "      <td>7</td>\n",
       "      <td>\"copy\"</td>\n",
       "      <td>40531208.6</td>\n",
       "      <td>30149.2</td>\n",
       "    </tr>\n",
       "    <tr>\n",
       "      <td>18</td>\n",
       "      <td>4000000</td>\n",
       "      <td>7</td>\n",
       "      <td>\"copy\"</td>\n",
       "      <td>55323197.4</td>\n",
       "      <td>41080.8</td>\n",
       "    </tr>\n",
       "  </tbody>\n",
       "</table>\n",
       "</div>"
      ],
      "text/plain": [
       "0      size  partnumber  method     aggtime  accesstime\n",
       "0   1000000           7  \"copy\"  12380324.8     10225.6\n",
       "6   2000000           7  \"copy\"  29342696.0     20452.8\n",
       "12  3000000           7  \"copy\"  40531208.6     30149.2\n",
       "18  4000000           7  \"copy\"  55323197.4     41080.8"
      ]
     },
     "execution_count": 42,
     "metadata": {},
     "output_type": "execute_result"
    }
   ],
   "source": [
    "df_avg[(df_avg[\"method\"] == '\"copy\"') & (df_avg[\"partnumber\"] == 7)]"
   ]
  },
  {
   "cell_type": "code",
   "execution_count": 43,
   "metadata": {},
   "outputs": [
    {
     "data": {
      "image/png": "[encoded data removed]",
      "text/plain": [
       "<Figure size 1080x720 with 1 Axes>"
      ]
     },
     "metadata": {
      "needs_background": "light"
     },
     "output_type": "display_data"
    }
   ],
   "source": [
    "copy = df_avg[(df_avg[\"method\"] == '\"copy\"') & (df_avg[\"partnumber\"] == 7)]\n",
    "shared = df_avg[(df_avg[\"method\"] == '\"shared\"') & (df_avg[\"partnumber\"] == 7)]\n",
    "fig, ax = plt.subplots(figsize = (15, 10))\n",
    "w = 0.2\n",
    "idx = np.arange(df_avg['size'].nunique())\n",
    "b1 = ax.bar(idx - w / 2, round(copy[\"aggtime\"] / 1000000, 2), width = w, color ='b', align = 'center')\n",
    "b2 = ax.bar(idx + w / 2, round(shared[\"aggtime\"] / 1000000, 2), width = w, color ='y', align = 'center')\n",
    "label = np.sort(df_avg['size'].unique())\n",
    "ax.set_xticks(idx)\n",
    "ax.set_xticklabels(label)\n",
    "ax.set_xlabel(\"Number of Object\", fontsize = 15)\n",
    "ax.set_ylabel(\"Runtime of sortting elements of Customer vector(seconds)\", fontsize = 15)\n",
    "ax.set_title(\"Runtime of Sortting Elements of Customer Vector\", fontsize = 15)\n",
    "autolabel(b1, ax)\n",
    "autolabel(b2, ax)\n",
    "ax.legend((b1, b2), (\"Deep copy\", \"Arc\"))\n",
    "##ax.set_yscale('log')\n",
    "#fig.savefig(\"rust_merge_sort.eps\")\n",
    "plt.show()"
   ]
  },
  {
   "cell_type": "code",
   "execution_count": 44,
   "metadata": {},
   "outputs": [
    {
     "data": {
      "image/png": "[encoded data removed]",
      "text/plain": [
       "<Figure size 1080x720 with 1 Axes>"
      ]
     },
     "metadata": {
      "needs_background": "light"
     },
     "output_type": "display_data"
    }
   ],
   "source": [
    "copy = df_avg[(df_avg[\"method\"] == '\"copy\"') & (df_avg[\"partnumber\"] == 15)]\n",
    "shared = df_avg[(df_avg[\"method\"] == '\"shared\"') & (df_avg[\"partnumber\"] == 15)]\n",
    "fig, ax = plt.subplots(figsize = (15, 10))\n",
    "w = 0.2\n",
    "idx = np.arange(df_avg['size'].nunique())\n",
    "b1 = ax.bar(idx - w / 2, round(copy[\"aggtime\"] / 1000000, 2), width = w, color ='b', align = 'center')\n",
    "b2 = ax.bar(idx + w / 2, round(shared[\"aggtime\"] / 1000000, 2), width = w, color ='y', align = 'center')\n",
    "label = np.sort(df_avg['size'].unique())\n",
    "ax.set_xticks(idx)\n",
    "ax.set_xticklabels(label)\n",
    "ax.set_xlabel(\"Number of Object\", fontsize = 15)\n",
    "ax.set_ylabel(\"Runtime of sortting elements of Customer vector(seconds)\", fontsize = 15)\n",
    "ax.set_title(\"Runtime of Sortting Elements of Customer Vector\", fontsize = 15)\n",
    "autolabel(b1, ax)\n",
    "autolabel(b2, ax)\n",
    "ax.legend((b1, b2), (\"Deep copy\", \"Arc\"))\n",
    "##ax.set_yscale('log')\n",
    "#fig.savefig(\"rust_merge_sort.eps\")\n",
    "plt.show()"
   ]
  },
  {
   "cell_type": "code",
   "execution_count": 45,
   "metadata": {},
   "outputs": [
    {
     "data": {
      "image/png": "[encoded data removed]",
      "text/plain": [
       "<Figure size 1080x720 with 1 Axes>"
      ]
     },
     "metadata": {
      "needs_background": "light"
     },
     "output_type": "display_data"
    }
   ],
   "source": [
    "copy = df_avg[(df_avg[\"method\"] == '\"copy\"') & (df_avg[\"partnumber\"] == 31)]\n",
    "shared = df_avg[(df_avg[\"method\"] == '\"shared\"') & (df_avg[\"partnumber\"] == 31)]\n",
    "fig, ax = plt.subplots(figsize = (15, 10))\n",
    "w = 0.2\n",
    "idx = np.arange(df_avg['size'].nunique())\n",
    "b1 = ax.bar(idx - w / 2, round(copy[\"aggtime\"] / 1000000, 2), width = w, color ='b', align = 'center')\n",
    "b2 = ax.bar(idx + w / 2, round(shared[\"aggtime\"] / 1000000, 2), width = w, color ='y', align = 'center')\n",
    "label = np.sort(df_avg['size'].unique())\n",
    "ax.set_xticks(idx)\n",
    "ax.set_xticklabels(label)\n",
    "ax.set_xlabel(\"Number of Object\", fontsize = 15)\n",
    "ax.set_ylabel(\"Runtime of sortting elements of Customer vector(seconds)\", fontsize = 15)\n",
    "ax.set_title(\"Runtime of Sortting Elements of Customer Vector\", fontsize = 15)\n",
    "autolabel(b1, ax)\n",
    "autolabel(b2, ax)\n",
    "ax.legend((b1, b2), (\"Deep copy\", \"Arc\"))\n",
    "##ax.set_yscale('log')\n",
    "#fig.savefig(\"rust_merge_sort.eps\")\n",
    "plt.show()"
   ]
  },
  {
   "cell_type": "code",
   "execution_count": 47,
   "metadata": {},
   "outputs": [
    {
     "data": {
      "text/html": [
       "<div>\n",
       "<style scoped>\n",
       "    .dataframe tbody tr th:only-of-type {\n",
       "        vertical-align: middle;\n",
       "    }\n",
       "\n",
       "    .dataframe tbody tr th {\n",
       "        vertical-align: top;\n",
       "    }\n",
       "\n",
       "    .dataframe thead th {\n",
       "        text-align: right;\n",
       "    }\n",
       "</style>\n",
       "<table border=\"1\" class=\"dataframe\">\n",
       "  <thead>\n",
       "    <tr style=\"text-align: right;\">\n",
       "      <th></th>\n",
       "      <th>size</th>\n",
       "      <th>partnumber</th>\n",
       "      <th>method</th>\n",
       "      <th>aggtime</th>\n",
       "      <th>accesstime</th>\n",
       "    </tr>\n",
       "  </thead>\n",
       "  <tbody>\n",
       "    <tr>\n",
       "      <td>0</td>\n",
       "      <td>1000000</td>\n",
       "      <td>7</td>\n",
       "      <td>\"copy\"</td>\n",
       "      <td>12380324.8</td>\n",
       "      <td>10225.6</td>\n",
       "    </tr>\n",
       "    <tr>\n",
       "      <td>2</td>\n",
       "      <td>1000000</td>\n",
       "      <td>15</td>\n",
       "      <td>\"copy\"</td>\n",
       "      <td>11694998.4</td>\n",
       "      <td>10677.6</td>\n",
       "    </tr>\n",
       "    <tr>\n",
       "      <td>4</td>\n",
       "      <td>1000000</td>\n",
       "      <td>31</td>\n",
       "      <td>\"copy\"</td>\n",
       "      <td>12443509.0</td>\n",
       "      <td>10932.0</td>\n",
       "    </tr>\n",
       "  </tbody>\n",
       "</table>\n",
       "</div>"
      ],
      "text/plain": [
       "0     size  partnumber  method     aggtime  accesstime\n",
       "0  1000000           7  \"copy\"  12380324.8     10225.6\n",
       "2  1000000          15  \"copy\"  11694998.4     10677.6\n",
       "4  1000000          31  \"copy\"  12443509.0     10932.0"
      ]
     },
     "execution_count": 47,
     "metadata": {},
     "output_type": "execute_result"
    }
   ],
   "source": [
    "df_avg[(df_avg[\"method\"] == '\"copy\"') & (df_avg[\"size\"] == 1000000)]"
   ]
  },
  {
   "cell_type": "code",
   "execution_count": 50,
   "metadata": {},
   "outputs": [
    {
     "data": {
      "image/png": "[encoded data removed]",
      "text/plain": [
       "<Figure size 1080x720 with 1 Axes>"
      ]
     },
     "metadata": {
      "needs_background": "light"
     },
     "output_type": "display_data"
    }
   ],
   "source": [
    "copy = df_avg[(df_avg[\"method\"] == '\"copy\"') & (df_avg[\"size\"] == 4000000)]\n",
    "shared = df_avg[(df_avg[\"method\"] == '\"shared\"') & (df_avg[\"size\"] == 4000000)]\n",
    "fig, ax = plt.subplots(figsize = (15, 10))\n",
    "w = 0.2\n",
    "idx = np.arange(df_avg['partnumber'].nunique())\n",
    "b1 = ax.bar(idx - w / 2, round(copy[\"aggtime\"] / 1000000, 2), width = w, color ='b', align = 'center')\n",
    "b2 = ax.bar(idx + w / 2, round(shared[\"aggtime\"] / 1000000, 2), width = w, color ='y', align = 'center')\n",
    "label = np.sort(df_avg['partnumber'].unique())\n",
    "ax.set_xticks(idx)\n",
    "ax.set_xticklabels(label)\n",
    "ax.set_xlabel(\"Number of Object\", fontsize = 15)\n",
    "ax.set_ylabel(\"Runtime of sortting elements of Customer vector(seconds)\", fontsize = 15)\n",
    "ax.set_title(\"Runtime of Sortting Elements of Customer Vector\", fontsize = 15)\n",
    "autolabel(b1, ax)\n",
    "autolabel(b2, ax)\n",
    "ax.legend((b1, b2), (\"Deep copy\", \"Arc\"))\n",
    "##ax.set_yscale('log')\n",
    "#fig.savefig(\"rust_merge_sort.eps\")\n",
    "plt.show()"
   ]
  },
  {
   "cell_type": "code",
   "execution_count": 52,
   "metadata": {},
   "outputs": [],
   "source": [
    "def f(k):\n",
    "    res = 0;\n",
    "    for i in range(k + 1):\n",
    "        res += 2 ** i\n",
    "    return res"
   ]
  },
  {
   "cell_type": "code",
   "execution_count": 63,
   "metadata": {},
   "outputs": [
    {
     "data": {
      "text/plain": [
       "127"
      ]
     },
     "execution_count": 63,
     "metadata": {},
     "output_type": "execute_result"
    }
   ],
   "source": [
    "f(6)"
   ]
  },
  {
   "cell_type": "code",
   "execution_count": 62,
   "metadata": {},
   "outputs": [
    {
     "data": {
      "text/plain": [
       "31"
      ]
     },
     "execution_count": 62,
     "metadata": {},
     "output_type": "execute_result"
    }
   ],
   "source": [
    "f(4)"
   ]
  },
  {
   "cell_type": "code",
   "execution_count": 61,
   "metadata": {},
   "outputs": [
    {
     "data": {
      "text/plain": [
       "7"
      ]
     },
     "execution_count": 61,
     "metadata": {},
     "output_type": "execute_result"
    }
   ],
   "source": [
    "f(2)"
   ]
  },
  {
   "cell_type": "code",
   "execution_count": 64,
   "metadata": {},
   "outputs": [
    {
     "data": {
      "text/plain": [
       "511"
      ]
     },
     "execution_count": 64,
     "metadata": {},
     "output_type": "execute_result"
    }
   ],
   "source": [
    "f(8)"
   ]
  },
  {
   "cell_type": "code",
   "execution_count": 65,
   "metadata": {},
   "outputs": [
    {
     "data": {
      "text/plain": [
       "2047"
      ]
     },
     "execution_count": 65,
     "metadata": {},
     "output_type": "execute_result"
    }
   ],
   "source": [
    "f(10)"
   ]
  },
  {
   "cell_type": "code",
   "execution_count": 66,
   "metadata": {},
   "outputs": [
    {
     "data": {
      "text/plain": [
       "8191"
      ]
     },
     "execution_count": 66,
     "metadata": {},
     "output_type": "execute_result"
    }
   ],
   "source": [
    "f(12)"
   ]
  },
  {
   "cell_type": "code",
   "execution_count": 67,
   "metadata": {},
   "outputs": [
    {
     "data": {
      "text/plain": [
       "32767"
      ]
     },
     "execution_count": 67,
     "metadata": {},
     "output_type": "execute_result"
    }
   ],
   "source": [
    "f(14)"
   ]
  },
  {
   "cell_type": "code",
   "execution_count": null,
   "metadata": {},
   "outputs": [],
   "source": []
  }
 ],
 "metadata": {
  "kernelspec": {
   "display_name": "Python 3",
   "language": "python",
   "name": "python3"
  },
  "language_info": {
   "codemirror_mode": {
    "name": "ipython",
    "version": 3
   },
   "file_extension": ".py",
   "mimetype": "text/x-python",
   "name": "python",
   "nbconvert_exporter": "python",
   "pygments_lexer": "ipython3",
   "version": "3.7.4"
  },
  "latex_envs": {
   "LaTeX_envs_menu_present": true,
   "autoclose": false,
   "autocomplete": true,
   "bibliofile": "biblio.bib",
   "cite_by": "apalike",
   "current_citInitial": 1,
   "eqLabelWithNumbers": true,
   "eqNumInitial": 1,
   "hotkeys": {
    "equation": "Ctrl-E",
    "itemize": "Ctrl-I"
   },
   "labels_anchors": false,
   "latex_user_defs": false,
   "report_style_numbering": false,
   "user_envs_cfg": false
  }
 },
 "nbformat": 4,
 "nbformat_minor": 2
}
