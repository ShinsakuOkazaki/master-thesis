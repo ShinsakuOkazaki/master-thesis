{
 "cells": [
  {
   "cell_type": "code",
   "execution_count": 2,
   "metadata": {},
   "outputs": [],
   "source": [
    "import pandas as pd\n",
    "import numpy as np\n",
    "import matplotlib.pyplot as plt"
   ]
  },
  {
   "cell_type": "code",
   "execution_count": 3,
   "metadata": {},
   "outputs": [],
   "source": [
    "def getDf():\n",
    "    files = {}\n",
    "    for size in [1500000, 1800000, 2500000, 2800000, 3500000, 3800000 ]:\n",
    "        with open(\"../result/resultRustOwnerType_init_true_{}.txt\".format(size), \"r\") as f:\n",
    "            files[\"size{}\".format(size)] = [s.strip().split(\"#\") for s in f.readlines()]\n",
    "\n",
    "    dfs = {}\n",
    "    for k in files.keys():\n",
    "        df = pd.DataFrame(files[k])\n",
    "        new_header = df.iloc[0]\n",
    "        df = df[1:]\n",
    "        df.columns = new_header\n",
    "        dfs[k] = df\n",
    "    data = dfs['size1500000']\n",
    "    for s in [1800000, 2500000, 2800000, 3500000, 3800000]:\n",
    "        data = pd.concat([data, dfs[\"size{}\".format(s)]])\n",
    "    data = data.astype({\"datastructure\": str,\"init\": str , \"size\": int, \"field\": str, \"createtime\":int,  \\\n",
    "                        'accesstime': int,\"totaltime\": int})\n",
    "    return data"
   ]
  },
  {
   "cell_type": "code",
   "execution_count": 4,
   "metadata": {},
   "outputs": [],
   "source": [
    "df = getDf()"
   ]
  },
  {
   "cell_type": "code",
   "execution_count": 5,
   "metadata": {},
   "outputs": [
    {
     "data": {
      "text/html": [
       "<div>\n",
       "<style scoped>\n",
       "    .dataframe tbody tr th:only-of-type {\n",
       "        vertical-align: middle;\n",
       "    }\n",
       "\n",
       "    .dataframe tbody tr th {\n",
       "        vertical-align: top;\n",
       "    }\n",
       "\n",
       "    .dataframe thead th {\n",
       "        text-align: right;\n",
       "    }\n",
       "</style>\n",
       "<table border=\"1\" class=\"dataframe\">\n",
       "  <thead>\n",
       "    <tr style=\"text-align: right;\">\n",
       "      <th></th>\n",
       "      <th>datastructure</th>\n",
       "      <th>init</th>\n",
       "      <th>size</th>\n",
       "      <th>field</th>\n",
       "      <th>createtime</th>\n",
       "      <th>accesstime</th>\n",
       "      <th>totaltime</th>\n",
       "    </tr>\n",
       "  </thead>\n",
       "  <tbody>\n",
       "    <tr>\n",
       "      <td>1</td>\n",
       "      <td>[RustVector]</td>\n",
       "      <td>true</td>\n",
       "      <td>1500000</td>\n",
       "      <td>\"own\"</td>\n",
       "      <td>422</td>\n",
       "      <td>12454</td>\n",
       "      <td>14557</td>\n",
       "    </tr>\n",
       "    <tr>\n",
       "      <td>2</td>\n",
       "      <td>[RustVector]</td>\n",
       "      <td>true</td>\n",
       "      <td>1500000</td>\n",
       "      <td>\"own\"</td>\n",
       "      <td>317</td>\n",
       "      <td>12590</td>\n",
       "      <td>14593</td>\n",
       "    </tr>\n",
       "    <tr>\n",
       "      <td>3</td>\n",
       "      <td>[RustVector]</td>\n",
       "      <td>true</td>\n",
       "      <td>1500000</td>\n",
       "      <td>\"own\"</td>\n",
       "      <td>315</td>\n",
       "      <td>10513</td>\n",
       "      <td>12499</td>\n",
       "    </tr>\n",
       "    <tr>\n",
       "      <td>4</td>\n",
       "      <td>[RustVector]</td>\n",
       "      <td>true</td>\n",
       "      <td>1500000</td>\n",
       "      <td>\"own\"</td>\n",
       "      <td>316</td>\n",
       "      <td>9168</td>\n",
       "      <td>11172</td>\n",
       "    </tr>\n",
       "    <tr>\n",
       "      <td>5</td>\n",
       "      <td>[RustVector]</td>\n",
       "      <td>true</td>\n",
       "      <td>1500000</td>\n",
       "      <td>\"own\"</td>\n",
       "      <td>312</td>\n",
       "      <td>11647</td>\n",
       "      <td>13648</td>\n",
       "    </tr>\n",
       "  </tbody>\n",
       "</table>\n",
       "</div>"
      ],
      "text/plain": [
       "0 datastructure  init     size  field  createtime  accesstime  totaltime\n",
       "1  [RustVector]  true  1500000  \"own\"         422       12454      14557\n",
       "2  [RustVector]  true  1500000  \"own\"         317       12590      14593\n",
       "3  [RustVector]  true  1500000  \"own\"         315       10513      12499\n",
       "4  [RustVector]  true  1500000  \"own\"         316        9168      11172\n",
       "5  [RustVector]  true  1500000  \"own\"         312       11647      13648"
      ]
     },
     "execution_count": 5,
     "metadata": {},
     "output_type": "execute_result"
    }
   ],
   "source": [
    "df.head()"
   ]
  },
  {
   "cell_type": "code",
   "execution_count": 6,
   "metadata": {},
   "outputs": [],
   "source": [
    "df_avg = df.groupby([\"size\", \"field\"]).mean().reset_index()"
   ]
  },
  {
   "cell_type": "code",
   "execution_count": 7,
   "metadata": {},
   "outputs": [
    {
     "data": {
      "text/html": [
       "<div>\n",
       "<style scoped>\n",
       "    .dataframe tbody tr th:only-of-type {\n",
       "        vertical-align: middle;\n",
       "    }\n",
       "\n",
       "    .dataframe tbody tr th {\n",
       "        vertical-align: top;\n",
       "    }\n",
       "\n",
       "    .dataframe thead th {\n",
       "        text-align: right;\n",
       "    }\n",
       "</style>\n",
       "<table border=\"1\" class=\"dataframe\">\n",
       "  <thead>\n",
       "    <tr style=\"text-align: right;\">\n",
       "      <th></th>\n",
       "      <th>size</th>\n",
       "      <th>field</th>\n",
       "      <th>createtime</th>\n",
       "      <th>accesstime</th>\n",
       "      <th>totaltime</th>\n",
       "    </tr>\n",
       "  </thead>\n",
       "  <tbody>\n",
       "    <tr>\n",
       "      <td>0</td>\n",
       "      <td>1500000</td>\n",
       "      <td>\"own\"</td>\n",
       "      <td>336.4</td>\n",
       "      <td>11274.4</td>\n",
       "      <td>13293.8</td>\n",
       "    </tr>\n",
       "    <tr>\n",
       "      <td>1</td>\n",
       "      <td>1500000</td>\n",
       "      <td>\"reference\"</td>\n",
       "      <td>99.8</td>\n",
       "      <td>10449.6</td>\n",
       "      <td>12221.8</td>\n",
       "    </tr>\n",
       "    <tr>\n",
       "      <td>2</td>\n",
       "      <td>1500000</td>\n",
       "      <td>\"slice\"</td>\n",
       "      <td>169.8</td>\n",
       "      <td>9900.8</td>\n",
       "      <td>11770.0</td>\n",
       "    </tr>\n",
       "    <tr>\n",
       "      <td>3</td>\n",
       "      <td>1800000</td>\n",
       "      <td>\"own\"</td>\n",
       "      <td>384.6</td>\n",
       "      <td>13540.0</td>\n",
       "      <td>15964.4</td>\n",
       "    </tr>\n",
       "    <tr>\n",
       "      <td>4</td>\n",
       "      <td>1800000</td>\n",
       "      <td>\"reference\"</td>\n",
       "      <td>120.0</td>\n",
       "      <td>13875.2</td>\n",
       "      <td>16034.6</td>\n",
       "    </tr>\n",
       "    <tr>\n",
       "      <td>5</td>\n",
       "      <td>1800000</td>\n",
       "      <td>\"slice\"</td>\n",
       "      <td>207.2</td>\n",
       "      <td>12778.2</td>\n",
       "      <td>15057.2</td>\n",
       "    </tr>\n",
       "    <tr>\n",
       "      <td>6</td>\n",
       "      <td>2500000</td>\n",
       "      <td>\"own\"</td>\n",
       "      <td>532.2</td>\n",
       "      <td>16253.6</td>\n",
       "      <td>19631.8</td>\n",
       "    </tr>\n",
       "    <tr>\n",
       "      <td>7</td>\n",
       "      <td>2500000</td>\n",
       "      <td>\"reference\"</td>\n",
       "      <td>166.4</td>\n",
       "      <td>16671.8</td>\n",
       "      <td>19688.6</td>\n",
       "    </tr>\n",
       "    <tr>\n",
       "      <td>8</td>\n",
       "      <td>2500000</td>\n",
       "      <td>\"slice\"</td>\n",
       "      <td>283.0</td>\n",
       "      <td>16228.6</td>\n",
       "      <td>19400.4</td>\n",
       "    </tr>\n",
       "    <tr>\n",
       "      <td>9</td>\n",
       "      <td>2800000</td>\n",
       "      <td>\"own\"</td>\n",
       "      <td>591.2</td>\n",
       "      <td>17937.2</td>\n",
       "      <td>21744.8</td>\n",
       "    </tr>\n",
       "    <tr>\n",
       "      <td>10</td>\n",
       "      <td>2800000</td>\n",
       "      <td>\"reference\"</td>\n",
       "      <td>191.4</td>\n",
       "      <td>19495.8</td>\n",
       "      <td>22921.8</td>\n",
       "    </tr>\n",
       "    <tr>\n",
       "      <td>11</td>\n",
       "      <td>2800000</td>\n",
       "      <td>\"slice\"</td>\n",
       "      <td>324.2</td>\n",
       "      <td>18626.0</td>\n",
       "      <td>22226.2</td>\n",
       "    </tr>\n",
       "    <tr>\n",
       "      <td>12</td>\n",
       "      <td>3500000</td>\n",
       "      <td>\"own\"</td>\n",
       "      <td>747.4</td>\n",
       "      <td>23065.8</td>\n",
       "      <td>27884.6</td>\n",
       "    </tr>\n",
       "    <tr>\n",
       "      <td>13</td>\n",
       "      <td>3500000</td>\n",
       "      <td>\"reference\"</td>\n",
       "      <td>231.8</td>\n",
       "      <td>23482.0</td>\n",
       "      <td>27811.2</td>\n",
       "    </tr>\n",
       "    <tr>\n",
       "      <td>14</td>\n",
       "      <td>3500000</td>\n",
       "      <td>\"slice\"</td>\n",
       "      <td>395.6</td>\n",
       "      <td>22800.2</td>\n",
       "      <td>27349.4</td>\n",
       "    </tr>\n",
       "    <tr>\n",
       "      <td>15</td>\n",
       "      <td>3800000</td>\n",
       "      <td>\"own\"</td>\n",
       "      <td>812.8</td>\n",
       "      <td>24922.6</td>\n",
       "      <td>30206.4</td>\n",
       "    </tr>\n",
       "    <tr>\n",
       "      <td>16</td>\n",
       "      <td>3800000</td>\n",
       "      <td>\"reference\"</td>\n",
       "      <td>254.4</td>\n",
       "      <td>25568.2</td>\n",
       "      <td>30401.4</td>\n",
       "    </tr>\n",
       "    <tr>\n",
       "      <td>17</td>\n",
       "      <td>3800000</td>\n",
       "      <td>\"slice\"</td>\n",
       "      <td>434.2</td>\n",
       "      <td>24550.0</td>\n",
       "      <td>29551.4</td>\n",
       "    </tr>\n",
       "  </tbody>\n",
       "</table>\n",
       "</div>"
      ],
      "text/plain": [
       "0      size        field  createtime  accesstime  totaltime\n",
       "0   1500000        \"own\"       336.4     11274.4    13293.8\n",
       "1   1500000  \"reference\"        99.8     10449.6    12221.8\n",
       "2   1500000      \"slice\"       169.8      9900.8    11770.0\n",
       "3   1800000        \"own\"       384.6     13540.0    15964.4\n",
       "4   1800000  \"reference\"       120.0     13875.2    16034.6\n",
       "5   1800000      \"slice\"       207.2     12778.2    15057.2\n",
       "6   2500000        \"own\"       532.2     16253.6    19631.8\n",
       "7   2500000  \"reference\"       166.4     16671.8    19688.6\n",
       "8   2500000      \"slice\"       283.0     16228.6    19400.4\n",
       "9   2800000        \"own\"       591.2     17937.2    21744.8\n",
       "10  2800000  \"reference\"       191.4     19495.8    22921.8\n",
       "11  2800000      \"slice\"       324.2     18626.0    22226.2\n",
       "12  3500000        \"own\"       747.4     23065.8    27884.6\n",
       "13  3500000  \"reference\"       231.8     23482.0    27811.2\n",
       "14  3500000      \"slice\"       395.6     22800.2    27349.4\n",
       "15  3800000        \"own\"       812.8     24922.6    30206.4\n",
       "16  3800000  \"reference\"       254.4     25568.2    30401.4\n",
       "17  3800000      \"slice\"       434.2     24550.0    29551.4"
      ]
     },
     "execution_count": 7,
     "metadata": {},
     "output_type": "execute_result"
    }
   ],
   "source": [
    "df_avg"
   ]
  },
  {
   "cell_type": "code",
   "execution_count": 8,
   "metadata": {},
   "outputs": [],
   "source": [
    "def autolabel(rects, ax):\n",
    "    \"\"\"Attach a text label above each bar in *rects*, displaying its height.\"\"\"\n",
    "    for rect in rects:\n",
    "        height = rect.get_height()\n",
    "        ax.annotate('{}'.format(height),\n",
    "                    xy=(rect.get_x() + rect.get_width() / 2, round(height, 3)),\n",
    "                    xytext=(0, 3),  # 3 points vertical offset\n",
    "                    textcoords=\"offset points\",\n",
    "                    ha='center', va='bottom', fontsize = 12)"
   ]
  },
  {
   "cell_type": "code",
   "execution_count": 9,
   "metadata": {},
   "outputs": [
    {
     "name": "stderr",
     "output_type": "stream",
     "text": [
      "The PostScript backend does not support transparency; partially transparent artists will be rendered opaque.\n",
      "The PostScript backend does not support transparency; partially transparent artists will be rendered opaque.\n"
     ]
    },
    {
     "data": {
      "image/png": "[encoded data removed]",
      "text/plain": [
       "<Figure size 1080x720 with 1 Axes>"
      ]
     },
     "metadata": {
      "needs_background": "light"
     },
     "output_type": "display_data"
    }
   ],
   "source": [
    "own = df_avg[df_avg[\"field\"] == '\"own\"']\n",
    "reference = df_avg[df_avg[\"field\"] == '\"reference\"']\n",
    "slice_type = df_avg[df_avg[\"field\"] == '\"slice\"']\n",
    "fig, ax = plt.subplots(figsize = (15, 10))\n",
    "w = 0.2\n",
    "idx = np.arange(df_avg['size'].nunique())\n",
    "b1 = ax.bar(idx - w, round(own[\"accesstime\"] / 1000, 1), width = w, color ='b', align = 'center')\n",
    "b2 = ax.bar(idx , round(reference[\"accesstime\"] / 1000, 1), width = w, color ='y', align = 'center')\n",
    "b3 = ax.bar(idx + w, round(slice_type[\"accesstime\"] / 1000, 1), width = w, color ='g', align = 'center')\n",
    "label = np.sort(df_avg['size'].unique())\n",
    "ax.set_xticks(idx)\n",
    "ax.set_xticklabels([str(n) + \"M\" for n in (label / 1000000)], fontsize = 12)\n",
    "ax.set_xlabel(\"Number of Object Accessed.\", fontsize = 15)\n",
    "ax.set_ylabel(\"Runtime of Access to Fields of Object(seconds).\", fontsize = 15)\n",
    "ax.set_title(\"Runtime of Access to String fields of Customer Object.\", fontsize = 15)\n",
    "autolabel(b1, ax)\n",
    "autolabel(b2, ax)\n",
    "autolabel(b3, ax)\n",
    "ax.legend((b1, b2, b3), (\"own\", \"reference\", \"slice\"))\n",
    "#ax.set_yscale('log')\n",
    "fig.savefig(\"rust_access_different_poniter_init.eps\")\n",
    "#fig.savefig(\"rust_borrowing.png\")\n",
    "plt.show()"
   ]
  },
  {
   "cell_type": "code",
   "execution_count": 10,
   "metadata": {},
   "outputs": [
    {
     "data": {
      "image/png": "[encoded data removed]",
      "text/plain": [
       "<Figure size 1080x720 with 1 Axes>"
      ]
     },
     "metadata": {
      "needs_background": "light"
     },
     "output_type": "display_data"
    }
   ],
   "source": [
    "own = df_avg[df_avg[\"field\"] == '\"own\"']\n",
    "reference = df_avg[df_avg[\"field\"] == '\"reference\"']\n",
    "slice_type = df_avg[df_avg[\"field\"] == '\"slice\"']\n",
    "fig, ax = plt.subplots(figsize = (15, 10))\n",
    "w = 0.2\n",
    "idx = np.arange(df_avg['size'].nunique())\n",
    "b1 = ax.bar(idx - w, own[\"createtime\"] / 1000, width = w, color ='b', align = 'center')\n",
    "b2 = ax.bar(idx , reference[\"createtime\"] / 1000, width = w, color ='y', align = 'center')\n",
    "b3 = ax.bar(idx + w, slice_type[\"createtime\"] / 1000, width = w, color ='g', align = 'center')\n",
    "label = np.sort(df_avg['size'].unique())\n",
    "ax.set_xticks(idx)\n",
    "ax.set_xticklabels(label)\n",
    "ax.set_xlabel(\"Number of Object Accessed.\", fontsize = 15)\n",
    "ax.set_ylabel(\"Runtime of  Creation of Object(seconds).\", fontsize = 15)\n",
    "ax.set_title(\"Runtime of creation of Customer Object.\", fontsize = 15)\n",
    "ax.legend((b1, b2, b3), (\"own\", \"reference\", \"slice\"))\n",
    "#ax.set_yscale('log')\n",
    "#fig.savefig(\"rust_different_insertion_noinit.eps\")\n",
    "#fig.savefig(\"rust_borrowing.png\")\n",
    "plt.show()"
   ]
  },
  {
   "cell_type": "markdown",
   "metadata": {},
   "source": [
    "##### "
   ]
  },
  {
   "cell_type": "code",
   "execution_count": 39,
   "metadata": {},
   "outputs": [],
   "source": [
    "vs = own[\"accesstime\"].values\n",
    "p_diff = np.array([])\n",
    "for i in range(1, vs.shape[0]):\n",
    "    v = (vs[i] - vs[i - 1]) \n",
    "    p_diff = np.append(p_diff, v)"
   ]
  },
  {
   "cell_type": "code",
   "execution_count": 40,
   "metadata": {},
   "outputs": [
    {
     "data": {
      "text/plain": [
       "array([11274.4, 13540. , 16253.6, 17937.2, 23065.8, 24922.6])"
      ]
     },
     "execution_count": 40,
     "metadata": {},
     "output_type": "execute_result"
    }
   ],
   "source": [
    "vs"
   ]
  },
  {
   "cell_type": "code",
   "execution_count": 48,
   "metadata": {},
   "outputs": [
    {
     "data": {
      "text/plain": [
       "array([2265.6, 2713.6, 1683.6, 5128.6, 1856.8])"
      ]
     },
     "execution_count": 48,
     "metadata": {},
     "output_type": "execute_result"
    }
   ],
   "source": [
    "p_diff"
   ]
  },
  {
   "cell_type": "code",
   "execution_count": 42,
   "metadata": {},
   "outputs": [
    {
     "data": {
      "text/plain": [
       "array([755.2       , 387.65714286, 561.2       , 732.65714286,\n",
       "       618.93333333])"
      ]
     },
     "execution_count": 42,
     "metadata": {},
     "output_type": "execute_result"
    }
   ],
   "source": [
    "p_diff / np.array([3, 7, 3, 7, 3])"
   ]
  },
  {
   "cell_type": "code",
   "execution_count": 47,
   "metadata": {},
   "outputs": [
    {
     "data": {
      "text/plain": [
       "121.05477896828212"
      ]
     },
     "execution_count": 47,
     "metadata": {},
     "output_type": "execute_result"
    }
   ],
   "source": [
    "((vs[5] - vs[0]) / vs[0]) * 100 "
   ]
  },
  {
   "cell_type": "code",
   "execution_count": 56,
   "metadata": {},
   "outputs": [
    {
     "data": {
      "text/plain": [
       "array([20.09508267, 20.04135894, 10.35832062, 28.59197645,  8.05001344])"
      ]
     },
     "execution_count": 56,
     "metadata": {},
     "output_type": "execute_result"
    }
   ],
   "source": [
    "(p_diff / vs[:][:5]) * 100"
   ]
  },
  {
   "cell_type": "code",
   "execution_count": null,
   "metadata": {},
   "outputs": [],
   "source": []
  }
 ],
 "metadata": {
  "kernelspec": {
   "display_name": "Python 3",
   "language": "python",
   "name": "python3"
  },
  "language_info": {
   "codemirror_mode": {
    "name": "ipython",
    "version": 3
   },
   "file_extension": ".py",
   "mimetype": "text/x-python",
   "name": "python",
   "nbconvert_exporter": "python",
   "pygments_lexer": "ipython3",
   "version": "3.7.4"
  },
  "latex_envs": {
   "LaTeX_envs_menu_present": true,
   "autoclose": false,
   "autocomplete": true,
   "bibliofile": "biblio.bib",
   "cite_by": "apalike",
   "current_citInitial": 1,
   "eqLabelWithNumbers": true,
   "eqNumInitial": 1,
   "hotkeys": {
    "equation": "Ctrl-E",
    "itemize": "Ctrl-I"
   },
   "labels_anchors": false,
   "latex_user_defs": false,
   "report_style_numbering": false,
   "user_envs_cfg": false
  }
 },
 "nbformat": 4,
 "nbformat_minor": 2
}
