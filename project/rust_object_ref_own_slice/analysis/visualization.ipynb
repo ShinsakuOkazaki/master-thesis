{
 "cells": [
  {
   "cell_type": "code",
   "execution_count": 1,
   "metadata": {},
   "outputs": [],
   "source": [
    "import pandas as pd\n",
    "import numpy as np\n",
    "import matplotlib.pyplot as plt"
   ]
  },
  {
   "cell_type": "code",
   "execution_count": 15,
   "metadata": {},
   "outputs": [],
   "source": [
    "def getDf():\n",
    "    files = {}\n",
    "    for size in [8500000, 10000000, 12500000,15000000]:\n",
    "        with open(\"../result/resultRustOwnerType_{}.txt\".format(size), \"r\") as f:\n",
    "            files[\"size{}\".format(size)] = [s.strip().split(\"#\") for s in f.readlines()]\n",
    "\n",
    "    dfs = {}\n",
    "    for k in files.keys():\n",
    "        df = pd.DataFrame(files[k])\n",
    "        new_header = df.iloc[0]\n",
    "        df = df[1:]\n",
    "        df.columns = new_header\n",
    "        dfs[k] = df\n",
    "    data = dfs['size8500000']\n",
    "    for s in [10000000, 12500000,15000000]:\n",
    "        data = pd.concat([data, dfs[\"size{}\".format(s)]])\n",
    "    data = data.astype({\"datastructure\": str, \"size\": int, \"field\": str, \"createtime\":int,  \\\n",
    "                        'accesstime': int,\"totaltime\": int})\n",
    "    return data"
   ]
  },
  {
   "cell_type": "code",
   "execution_count": 16,
   "metadata": {},
   "outputs": [],
   "source": [
    "df = getDf()"
   ]
  },
  {
   "cell_type": "code",
   "execution_count": 17,
   "metadata": {},
   "outputs": [],
   "source": [
    "df_avg = df.groupby([\"size\", \"field\"]).mean().reset_index()"
   ]
  },
  {
   "cell_type": "code",
   "execution_count": 19,
   "metadata": {},
   "outputs": [
    {
     "data": {
      "image/png": "[encoded data removed]",
      "text/plain": [
       "<Figure size 1080x720 with 1 Axes>"
      ]
     },
     "metadata": {
      "needs_background": "light"
     },
     "output_type": "display_data"
    }
   ],
   "source": [
    "own = df_avg[df_avg[\"field\"] == '\"own\"']\n",
    "reference = df_avg[df_avg[\"field\"] == '\"own\"']\n",
    "slice_type = df_avg[df_avg[\"field\"] == '\"slice\"']\n",
    "fig, ax = plt.subplots(figsize = (15, 10))\n",
    "w = 0.2\n",
    "idx = np.arange(df_avg['size'].nunique())\n",
    "b1 = ax.bar(idx - w, own[\"accesstime\"], width = w, color ='b', align = 'center')\n",
    "b2 = ax.bar(idx , reference[\"accesstime\"], width = w, color ='y', align = 'center')\n",
    "b3 = ax.bar(idx + w, slice_type[\"accesstime\"], width = w, color ='g', align = 'center')\n",
    "label = np.sort(df_avg['size'].unique())\n",
    "ax.set_xticks(idx)\n",
    "ax.set_xticklabels(label)\n",
    "ax.set_xlabel(\"Number of Object Accessed.\", fontsize = 15)\n",
    "ax.set_ylabel(\"Runtime of Access to Fields of Object(seconds).\", fontsize = 15)\n",
    "ax.set_title(\"Runtime of Access to String fields of Customer Object.\", fontsize = 15)\n",
    "ax.legend((b1, b2, b3), (\"own\", \"reference\", \"slice\"))\n",
    "ax.set_yscale('log')\n",
    "#fig.savefig(\"rust_borrowing.eps\")\n",
    "#fig.savefig(\"rust_borrowing.png\")\n",
    "plt.show()"
   ]
  },
  {
   "cell_type": "code",
   "execution_count": 22,
   "metadata": {},
   "outputs": [
    {
     "data": {
      "text/html": [
       "<div>\n",
       "<style scoped>\n",
       "    .dataframe tbody tr th:only-of-type {\n",
       "        vertical-align: middle;\n",
       "    }\n",
       "\n",
       "    .dataframe tbody tr th {\n",
       "        vertical-align: top;\n",
       "    }\n",
       "\n",
       "    .dataframe thead th {\n",
       "        text-align: right;\n",
       "    }\n",
       "</style>\n",
       "<table border=\"1\" class=\"dataframe\">\n",
       "  <thead>\n",
       "    <tr style=\"text-align: right;\">\n",
       "      <th></th>\n",
       "      <th>size</th>\n",
       "      <th>field</th>\n",
       "      <th>createtime</th>\n",
       "      <th>accesstime</th>\n",
       "      <th>totaltime</th>\n",
       "    </tr>\n",
       "  </thead>\n",
       "  <tbody>\n",
       "    <tr>\n",
       "      <td>9</td>\n",
       "      <td>15000000</td>\n",
       "      <td>\"own\"</td>\n",
       "      <td>1.0</td>\n",
       "      <td>70.6</td>\n",
       "      <td>76.4</td>\n",
       "    </tr>\n",
       "    <tr>\n",
       "      <td>10</td>\n",
       "      <td>15000000</td>\n",
       "      <td>\"reference\"</td>\n",
       "      <td>0.0</td>\n",
       "      <td>70.0</td>\n",
       "      <td>74.8</td>\n",
       "    </tr>\n",
       "    <tr>\n",
       "      <td>11</td>\n",
       "      <td>15000000</td>\n",
       "      <td>\"slice\"</td>\n",
       "      <td>0.0</td>\n",
       "      <td>69.8</td>\n",
       "      <td>75.0</td>\n",
       "    </tr>\n",
       "  </tbody>\n",
       "</table>\n",
       "</div>"
      ],
      "text/plain": [
       "0       size        field  createtime  accesstime  totaltime\n",
       "9   15000000        \"own\"         1.0        70.6       76.4\n",
       "10  15000000  \"reference\"         0.0        70.0       74.8\n",
       "11  15000000      \"slice\"         0.0        69.8       75.0"
      ]
     },
     "execution_count": 22,
     "metadata": {},
     "output_type": "execute_result"
    }
   ],
   "source": [
    "df_avg[df_avg[\"size\"] == 15000000]"
   ]
  },
  {
   "cell_type": "code",
   "execution_count": null,
   "metadata": {},
   "outputs": [],
   "source": []
  }
 ],
 "metadata": {
  "kernelspec": {
   "display_name": "Python 3",
   "language": "python",
   "name": "python3"
  },
  "language_info": {
   "codemirror_mode": {
    "name": "ipython",
    "version": 3
   },
   "file_extension": ".py",
   "mimetype": "text/x-python",
   "name": "python",
   "nbconvert_exporter": "python",
   "pygments_lexer": "ipython3",
   "version": "3.7.4"
  },
  "latex_envs": {
   "LaTeX_envs_menu_present": true,
   "autoclose": false,
   "autocomplete": true,
   "bibliofile": "biblio.bib",
   "cite_by": "apalike",
   "current_citInitial": 1,
   "eqLabelWithNumbers": true,
   "eqNumInitial": 1,
   "hotkeys": {
    "equation": "Ctrl-E",
    "itemize": "Ctrl-I"
   },
   "labels_anchors": false,
   "latex_user_defs": false,
   "report_style_numbering": false,
   "user_envs_cfg": false
  }
 },
 "nbformat": 4,
 "nbformat_minor": 2
}
