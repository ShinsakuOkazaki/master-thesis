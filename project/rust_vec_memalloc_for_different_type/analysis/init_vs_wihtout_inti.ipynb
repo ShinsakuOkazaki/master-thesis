{
 "cells": [
  {
   "cell_type": "code",
   "execution_count": 9,
   "metadata": {},
   "outputs": [],
   "source": [
    "import pandas as pd\n",
    "import numpy as np\n",
    "import matplotlib.pyplot as plt"
   ]
  },
  {
   "cell_type": "code",
   "execution_count": 10,
   "metadata": {},
   "outputs": [],
   "source": [
    "def getDf():\n",
    "    files = {}\n",
    "    for size in [3000000,13000000, 23000000, 33000000]:\n",
    "        for b in [\"true\", \"false\"]:\n",
    "            with open(\"../result/resultRustOwnerType_init_{}_{}.txt\".format(b, size), \"r\") as f:\n",
    "                files[\"size_{}_init_{}\".format(size, b)] = [s.strip().split(\"#\") for s in f.readlines()]\n",
    "\n",
    "    dfs = {}\n",
    "    header = None\n",
    "    for k in files.keys():\n",
    "        df = pd.DataFrame(files[k])\n",
    "        header = df.iloc[0]\n",
    "        df = df[1:]\n",
    "        df.columns = header\n",
    "        dfs[k] = df\n",
    "\n",
    "    data = pd.DataFrame(columns=header)\n",
    "    for s in [3000000,13000000, 23000000, 33000000]:\n",
    "        for b in [\"true\", \"false\"]:\n",
    "            data = pd.concat([data, dfs[\"size_{}_init_{}\".format(s, b)]])\n",
    "            data = data.astype({\"datastructure\": str, \"init\": str ,\"size\": int, \"field\": str, \"createtime\":int,  \\\n",
    "                        'accesstime': int,\"totaltime\": int})\n",
    "    return data"
   ]
  },
  {
   "cell_type": "code",
   "execution_count": null,
   "metadata": {},
   "outputs": [],
   "source": []
  },
  {
   "cell_type": "code",
   "execution_count": 11,
   "metadata": {},
   "outputs": [],
   "source": [
    "df = getDf()"
   ]
  },
  {
   "cell_type": "code",
   "execution_count": 12,
   "metadata": {},
   "outputs": [
    {
     "data": {
      "text/html": [
       "<div>\n",
       "<style scoped>\n",
       "    .dataframe tbody tr th:only-of-type {\n",
       "        vertical-align: middle;\n",
       "    }\n",
       "\n",
       "    .dataframe tbody tr th {\n",
       "        vertical-align: top;\n",
       "    }\n",
       "\n",
       "    .dataframe thead th {\n",
       "        text-align: right;\n",
       "    }\n",
       "</style>\n",
       "<table border=\"1\" class=\"dataframe\">\n",
       "  <thead>\n",
       "    <tr style=\"text-align: right;\">\n",
       "      <th></th>\n",
       "      <th>datastructure</th>\n",
       "      <th>init</th>\n",
       "      <th>size</th>\n",
       "      <th>field</th>\n",
       "      <th>createtime</th>\n",
       "      <th>accesstime</th>\n",
       "      <th>totaltime</th>\n",
       "    </tr>\n",
       "  </thead>\n",
       "  <tbody>\n",
       "    <tr>\n",
       "      <td>1</td>\n",
       "      <td>[RustVector]</td>\n",
       "      <td>true</td>\n",
       "      <td>3000000</td>\n",
       "      <td>\"own\"</td>\n",
       "      <td>679</td>\n",
       "      <td>16220</td>\n",
       "      <td>20372</td>\n",
       "    </tr>\n",
       "    <tr>\n",
       "      <td>2</td>\n",
       "      <td>[RustVector]</td>\n",
       "      <td>true</td>\n",
       "      <td>3000000</td>\n",
       "      <td>\"own\"</td>\n",
       "      <td>666</td>\n",
       "      <td>16059</td>\n",
       "      <td>20228</td>\n",
       "    </tr>\n",
       "    <tr>\n",
       "      <td>3</td>\n",
       "      <td>[RustVector]</td>\n",
       "      <td>true</td>\n",
       "      <td>3000000</td>\n",
       "      <td>\"own\"</td>\n",
       "      <td>637</td>\n",
       "      <td>17269</td>\n",
       "      <td>21403</td>\n",
       "    </tr>\n",
       "    <tr>\n",
       "      <td>4</td>\n",
       "      <td>[RustVector]</td>\n",
       "      <td>true</td>\n",
       "      <td>3000000</td>\n",
       "      <td>\"own\"</td>\n",
       "      <td>653</td>\n",
       "      <td>16159</td>\n",
       "      <td>20423</td>\n",
       "    </tr>\n",
       "    <tr>\n",
       "      <td>5</td>\n",
       "      <td>[RustVector]</td>\n",
       "      <td>true</td>\n",
       "      <td>3000000</td>\n",
       "      <td>\"own\"</td>\n",
       "      <td>657</td>\n",
       "      <td>16189</td>\n",
       "      <td>20330</td>\n",
       "    </tr>\n",
       "    <tr>\n",
       "      <td>...</td>\n",
       "      <td>...</td>\n",
       "      <td>...</td>\n",
       "      <td>...</td>\n",
       "      <td>...</td>\n",
       "      <td>...</td>\n",
       "      <td>...</td>\n",
       "      <td>...</td>\n",
       "    </tr>\n",
       "    <tr>\n",
       "      <td>11</td>\n",
       "      <td>[RustVector]</td>\n",
       "      <td>false</td>\n",
       "      <td>33000000</td>\n",
       "      <td>\"slice\"</td>\n",
       "      <td>5181</td>\n",
       "      <td>179443</td>\n",
       "      <td>228780</td>\n",
       "    </tr>\n",
       "    <tr>\n",
       "      <td>12</td>\n",
       "      <td>[RustVector]</td>\n",
       "      <td>false</td>\n",
       "      <td>33000000</td>\n",
       "      <td>\"slice\"</td>\n",
       "      <td>5475</td>\n",
       "      <td>183759</td>\n",
       "      <td>234329</td>\n",
       "    </tr>\n",
       "    <tr>\n",
       "      <td>13</td>\n",
       "      <td>[RustVector]</td>\n",
       "      <td>false</td>\n",
       "      <td>33000000</td>\n",
       "      <td>\"slice\"</td>\n",
       "      <td>4877</td>\n",
       "      <td>177954</td>\n",
       "      <td>227413</td>\n",
       "    </tr>\n",
       "    <tr>\n",
       "      <td>14</td>\n",
       "      <td>[RustVector]</td>\n",
       "      <td>false</td>\n",
       "      <td>33000000</td>\n",
       "      <td>\"slice\"</td>\n",
       "      <td>5243</td>\n",
       "      <td>178809</td>\n",
       "      <td>229376</td>\n",
       "    </tr>\n",
       "    <tr>\n",
       "      <td>15</td>\n",
       "      <td>[RustVector]</td>\n",
       "      <td>false</td>\n",
       "      <td>33000000</td>\n",
       "      <td>\"slice\"</td>\n",
       "      <td>4868</td>\n",
       "      <td>182287</td>\n",
       "      <td>231885</td>\n",
       "    </tr>\n",
       "  </tbody>\n",
       "</table>\n",
       "<p>120 rows × 7 columns</p>\n",
       "</div>"
      ],
      "text/plain": [
       "0  datastructure   init      size    field  createtime  accesstime  totaltime\n",
       "1   [RustVector]   true   3000000    \"own\"         679       16220      20372\n",
       "2   [RustVector]   true   3000000    \"own\"         666       16059      20228\n",
       "3   [RustVector]   true   3000000    \"own\"         637       17269      21403\n",
       "4   [RustVector]   true   3000000    \"own\"         653       16159      20423\n",
       "5   [RustVector]   true   3000000    \"own\"         657       16189      20330\n",
       "..           ...    ...       ...      ...         ...         ...        ...\n",
       "11  [RustVector]  false  33000000  \"slice\"        5181      179443     228780\n",
       "12  [RustVector]  false  33000000  \"slice\"        5475      183759     234329\n",
       "13  [RustVector]  false  33000000  \"slice\"        4877      177954     227413\n",
       "14  [RustVector]  false  33000000  \"slice\"        5243      178809     229376\n",
       "15  [RustVector]  false  33000000  \"slice\"        4868      182287     231885\n",
       "\n",
       "[120 rows x 7 columns]"
      ]
     },
     "execution_count": 12,
     "metadata": {},
     "output_type": "execute_result"
    }
   ],
   "source": [
    "df"
   ]
  },
  {
   "cell_type": "code",
   "execution_count": 13,
   "metadata": {},
   "outputs": [],
   "source": [
    "df_avg = df.groupby([\"size\", \"init\"]).mean().reset_index()"
   ]
  },
  {
   "cell_type": "code",
   "execution_count": 14,
   "metadata": {},
   "outputs": [
    {
     "data": {
      "text/html": [
       "<div>\n",
       "<style scoped>\n",
       "    .dataframe tbody tr th:only-of-type {\n",
       "        vertical-align: middle;\n",
       "    }\n",
       "\n",
       "    .dataframe tbody tr th {\n",
       "        vertical-align: top;\n",
       "    }\n",
       "\n",
       "    .dataframe thead th {\n",
       "        text-align: right;\n",
       "    }\n",
       "</style>\n",
       "<table border=\"1\" class=\"dataframe\">\n",
       "  <thead>\n",
       "    <tr style=\"text-align: right;\">\n",
       "      <th></th>\n",
       "      <th>size</th>\n",
       "      <th>init</th>\n",
       "      <th>createtime</th>\n",
       "      <th>accesstime</th>\n",
       "      <th>totaltime</th>\n",
       "    </tr>\n",
       "  </thead>\n",
       "  <tbody>\n",
       "    <tr>\n",
       "      <td>0</td>\n",
       "      <td>3000000</td>\n",
       "      <td>false</td>\n",
       "      <td>422.600000</td>\n",
       "      <td>16522.133333</td>\n",
       "      <td>20456.266667</td>\n",
       "    </tr>\n",
       "    <tr>\n",
       "      <td>1</td>\n",
       "      <td>3000000</td>\n",
       "      <td>true</td>\n",
       "      <td>405.666667</td>\n",
       "      <td>16410.400000</td>\n",
       "      <td>20327.266667</td>\n",
       "    </tr>\n",
       "    <tr>\n",
       "      <td>2</td>\n",
       "      <td>13000000</td>\n",
       "      <td>false</td>\n",
       "      <td>2099.333333</td>\n",
       "      <td>71592.866667</td>\n",
       "      <td>90376.666667</td>\n",
       "    </tr>\n",
       "    <tr>\n",
       "      <td>3</td>\n",
       "      <td>13000000</td>\n",
       "      <td>true</td>\n",
       "      <td>1948.133333</td>\n",
       "      <td>71914.533333</td>\n",
       "      <td>90586.333333</td>\n",
       "    </tr>\n",
       "    <tr>\n",
       "      <td>4</td>\n",
       "      <td>23000000</td>\n",
       "      <td>false</td>\n",
       "      <td>3882.133333</td>\n",
       "      <td>125999.800000</td>\n",
       "      <td>160209.066667</td>\n",
       "    </tr>\n",
       "    <tr>\n",
       "      <td>5</td>\n",
       "      <td>23000000</td>\n",
       "      <td>true</td>\n",
       "      <td>4026.266667</td>\n",
       "      <td>127258.000000</td>\n",
       "      <td>161414.266667</td>\n",
       "    </tr>\n",
       "    <tr>\n",
       "      <td>6</td>\n",
       "      <td>33000000</td>\n",
       "      <td>false</td>\n",
       "      <td>6734.066667</td>\n",
       "      <td>181708.000000</td>\n",
       "      <td>232893.666667</td>\n",
       "    </tr>\n",
       "    <tr>\n",
       "      <td>7</td>\n",
       "      <td>33000000</td>\n",
       "      <td>true</td>\n",
       "      <td>6145.200000</td>\n",
       "      <td>181873.333333</td>\n",
       "      <td>232233.933333</td>\n",
       "    </tr>\n",
       "  </tbody>\n",
       "</table>\n",
       "</div>"
      ],
      "text/plain": [
       "0      size   init   createtime     accesstime      totaltime\n",
       "0   3000000  false   422.600000   16522.133333   20456.266667\n",
       "1   3000000   true   405.666667   16410.400000   20327.266667\n",
       "2  13000000  false  2099.333333   71592.866667   90376.666667\n",
       "3  13000000   true  1948.133333   71914.533333   90586.333333\n",
       "4  23000000  false  3882.133333  125999.800000  160209.066667\n",
       "5  23000000   true  4026.266667  127258.000000  161414.266667\n",
       "6  33000000  false  6734.066667  181708.000000  232893.666667\n",
       "7  33000000   true  6145.200000  181873.333333  232233.933333"
      ]
     },
     "execution_count": 14,
     "metadata": {},
     "output_type": "execute_result"
    }
   ],
   "source": [
    "df_avg"
   ]
  },
  {
   "cell_type": "code",
   "execution_count": 15,
   "metadata": {},
   "outputs": [],
   "source": [
    "def autolabel(rects, ax):\n",
    "    \"\"\"Attach a text label above each bar in *rects*, displaying its height.\"\"\"\n",
    "    for rect in rects:\n",
    "        height = rect.get_height()\n",
    "        ax.annotate('{}'.format(height),\n",
    "                    xy=(rect.get_x() + rect.get_width() / 2, round(height, 3)),\n",
    "                    xytext=(0, 3),  # 3 points vertical offset\n",
    "                    textcoords=\"offset points\",\n",
    "                    ha='center', va='bottom', fontsize = 12)"
   ]
  },
  {
   "cell_type": "code",
   "execution_count": 19,
   "metadata": {},
   "outputs": [
    {
     "name": "stderr",
     "output_type": "stream",
     "text": [
      "The PostScript backend does not support transparency; partially transparent artists will be rendered opaque.\n",
      "The PostScript backend does not support transparency; partially transparent artists will be rendered opaque.\n"
     ]
    },
    {
     "data": {
      "image/png": "[encoded data removed]",
      "text/plain": [
       "<Figure size 1080x720 with 1 Axes>"
      ]
     },
     "metadata": {
      "needs_background": "light"
     },
     "output_type": "display_data"
    }
   ],
   "source": [
    "init = df_avg[df_avg[\"init\"] == 'true']\n",
    "without_init = df_avg[df_avg[\"init\"] == 'false']\n",
    "fig, ax = plt.subplots(figsize = (15, 10))\n",
    "w = 0.2\n",
    "idx = np.arange(df_avg['size'].nunique())\n",
    "b1 = ax.bar(idx - w/2, round(init[\"accesstime\"] / 1000, 0), width = w, color ='b', align = 'center')\n",
    "b2 = ax.bar(idx + w/2, round(without_init[\"accesstime\"] / 1000, 0), width = w, color ='g', align = 'center')\n",
    "label = np.sort(df_avg['size'].unique())\n",
    "ax.set_xticks(idx)\n",
    "ax.set_xticklabels([str(int(n)) + \"M\" for n in (label / 1000000)], fontsize = 12)\n",
    "ax.set_xlabel(\"Number of Object Accessed.\", fontsize = 15)\n",
    "ax.set_ylabel(\"Runtime of Access to Fields of Object(seconds).\", fontsize = 15)\n",
    "ax.set_title(\"Runtime of Access to String fields of Customer Object.\", fontsize = 15)\n",
    "autolabel(b1, ax)\n",
    "autolabel(b2, ax)\n",
    "ax.legend((b1, b2), (\"Initialized\", \"Without Initialized\"))\n",
    "#ax.set_yscale('log')\n",
    "fig.savefig(\"rust_access_init_vs_noint.eps\")\n",
    "#fig.savefig(\"rust_borrowing.png\")\n",
    "plt.show()"
   ]
  },
  {
   "cell_type": "code",
   "execution_count": 9,
   "metadata": {},
   "outputs": [],
   "source": [
    "init_v = init[\"accesstime\"].values\n",
    "noinit_v = without_init[\"accesstime\"].values"
   ]
  },
  {
   "cell_type": "code",
   "execution_count": 10,
   "metadata": {},
   "outputs": [
    {
     "data": {
      "text/plain": [
       "array([ -2.4345452 , -10.13097326,  28.33504408,  52.81149514,\n",
       "        61.98080696,  60.76868304])"
      ]
     },
     "execution_count": 10,
     "metadata": {},
     "output_type": "execute_result"
    }
   ],
   "source": [
    "((noinit_v - init_v) / noinit_v) * 100"
   ]
  },
  {
   "cell_type": "code",
   "execution_count": null,
   "metadata": {},
   "outputs": [],
   "source": []
  }
 ],
 "metadata": {
  "kernelspec": {
   "display_name": "Python 3",
   "language": "python",
   "name": "python3"
  },
  "language_info": {
   "codemirror_mode": {
    "name": "ipython",
    "version": 3
   },
   "file_extension": ".py",
   "mimetype": "text/x-python",
   "name": "python",
   "nbconvert_exporter": "python",
   "pygments_lexer": "ipython3",
   "version": "3.7.4"
  },
  "latex_envs": {
   "LaTeX_envs_menu_present": true,
   "autoclose": false,
   "autocomplete": true,
   "bibliofile": "biblio.bib",
   "cite_by": "apalike",
   "current_citInitial": 1,
   "eqLabelWithNumbers": true,
   "eqNumInitial": 1,
   "hotkeys": {
    "equation": "Ctrl-E",
    "itemize": "Ctrl-I"
   },
   "labels_anchors": false,
   "latex_user_defs": false,
   "report_style_numbering": false,
   "user_envs_cfg": false
  }
 },
 "nbformat": 4,
 "nbformat_minor": 2
}
