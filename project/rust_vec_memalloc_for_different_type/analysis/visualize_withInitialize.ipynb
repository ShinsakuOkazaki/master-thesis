{
 "cells": [
  {
   "cell_type": "code",
   "execution_count": 3,
   "metadata": {},
   "outputs": [],
   "source": [
    "import pandas as pd\n",
    "import numpy as np\n",
    "import matplotlib.pyplot as plt"
   ]
  },
  {
   "cell_type": "code",
   "execution_count": 4,
   "metadata": {},
   "outputs": [],
   "source": [
    "def getDf():\n",
    "    files = {}\n",
    "    for size in [3910000, 3920000, 3930000,3940000]:\n",
    "        with open(\"../result/resultRustOwnerType_init_true_{}.txt\".format(size), \"r\") as f:\n",
    "            files[\"size{}\".format(size)] = [s.strip().split(\"#\") for s in f.readlines()]\n",
    "\n",
    "    dfs = {}\n",
    "    for k in files.keys():\n",
    "        df = pd.DataFrame(files[k])\n",
    "        new_header = df.iloc[0]\n",
    "        df = df[1:]\n",
    "        df.columns = new_header\n",
    "        dfs[k] = df\n",
    "    data = dfs['size3910000']\n",
    "    for s in [3920000, 3930000,3940000]:\n",
    "        data = pd.concat([data, dfs[\"size{}\".format(s)]])\n",
    "    data = data.astype({\"datastructure\": str,\"init\": str , \"size\": int, \"field\": str, \"createtime\":int,  \\\n",
    "                        'accesstime': int,\"totaltime\": int})\n",
    "    return data"
   ]
  },
  {
   "cell_type": "code",
   "execution_count": 5,
   "metadata": {},
   "outputs": [],
   "source": [
    "df = getDf()"
   ]
  },
  {
   "cell_type": "code",
   "execution_count": 6,
   "metadata": {},
   "outputs": [
    {
     "data": {
      "text/html": [
       "<div>\n",
       "<style scoped>\n",
       "    .dataframe tbody tr th:only-of-type {\n",
       "        vertical-align: middle;\n",
       "    }\n",
       "\n",
       "    .dataframe tbody tr th {\n",
       "        vertical-align: top;\n",
       "    }\n",
       "\n",
       "    .dataframe thead th {\n",
       "        text-align: right;\n",
       "    }\n",
       "</style>\n",
       "<table border=\"1\" class=\"dataframe\">\n",
       "  <thead>\n",
       "    <tr style=\"text-align: right;\">\n",
       "      <th></th>\n",
       "      <th>datastructure</th>\n",
       "      <th>init</th>\n",
       "      <th>size</th>\n",
       "      <th>field</th>\n",
       "      <th>createtime</th>\n",
       "      <th>accesstime</th>\n",
       "      <th>totaltime</th>\n",
       "    </tr>\n",
       "  </thead>\n",
       "  <tbody>\n",
       "    <tr>\n",
       "      <td>1</td>\n",
       "      <td>[RustVector]</td>\n",
       "      <td>true</td>\n",
       "      <td>3910000</td>\n",
       "      <td>\"own\"</td>\n",
       "      <td>981</td>\n",
       "      <td>25797</td>\n",
       "      <td>31566</td>\n",
       "    </tr>\n",
       "    <tr>\n",
       "      <td>2</td>\n",
       "      <td>[RustVector]</td>\n",
       "      <td>true</td>\n",
       "      <td>3910000</td>\n",
       "      <td>\"own\"</td>\n",
       "      <td>985</td>\n",
       "      <td>26889</td>\n",
       "      <td>32752</td>\n",
       "    </tr>\n",
       "    <tr>\n",
       "      <td>3</td>\n",
       "      <td>[RustVector]</td>\n",
       "      <td>true</td>\n",
       "      <td>3910000</td>\n",
       "      <td>\"own\"</td>\n",
       "      <td>980</td>\n",
       "      <td>27589</td>\n",
       "      <td>33369</td>\n",
       "    </tr>\n",
       "    <tr>\n",
       "      <td>4</td>\n",
       "      <td>[RustVector]</td>\n",
       "      <td>true</td>\n",
       "      <td>3910000</td>\n",
       "      <td>\"own\"</td>\n",
       "      <td>953</td>\n",
       "      <td>26474</td>\n",
       "      <td>32902</td>\n",
       "    </tr>\n",
       "    <tr>\n",
       "      <td>5</td>\n",
       "      <td>[RustVector]</td>\n",
       "      <td>true</td>\n",
       "      <td>3910000</td>\n",
       "      <td>\"own\"</td>\n",
       "      <td>990</td>\n",
       "      <td>25937</td>\n",
       "      <td>31702</td>\n",
       "    </tr>\n",
       "  </tbody>\n",
       "</table>\n",
       "</div>"
      ],
      "text/plain": [
       "0 datastructure  init     size  field  createtime  accesstime  totaltime\n",
       "1  [RustVector]  true  3910000  \"own\"         981       25797      31566\n",
       "2  [RustVector]  true  3910000  \"own\"         985       26889      32752\n",
       "3  [RustVector]  true  3910000  \"own\"         980       27589      33369\n",
       "4  [RustVector]  true  3910000  \"own\"         953       26474      32902\n",
       "5  [RustVector]  true  3910000  \"own\"         990       25937      31702"
      ]
     },
     "execution_count": 6,
     "metadata": {},
     "output_type": "execute_result"
    }
   ],
   "source": [
    "df.head()"
   ]
  },
  {
   "cell_type": "code",
   "execution_count": 7,
   "metadata": {},
   "outputs": [],
   "source": [
    "df_avg = df.groupby([\"size\", \"field\"]).mean().reset_index()"
   ]
  },
  {
   "cell_type": "code",
   "execution_count": 8,
   "metadata": {},
   "outputs": [
    {
     "data": {
      "text/html": [
       "<div>\n",
       "<style scoped>\n",
       "    .dataframe tbody tr th:only-of-type {\n",
       "        vertical-align: middle;\n",
       "    }\n",
       "\n",
       "    .dataframe tbody tr th {\n",
       "        vertical-align: top;\n",
       "    }\n",
       "\n",
       "    .dataframe thead th {\n",
       "        text-align: right;\n",
       "    }\n",
       "</style>\n",
       "<table border=\"1\" class=\"dataframe\">\n",
       "  <thead>\n",
       "    <tr style=\"text-align: right;\">\n",
       "      <th></th>\n",
       "      <th>size</th>\n",
       "      <th>field</th>\n",
       "      <th>createtime</th>\n",
       "      <th>accesstime</th>\n",
       "      <th>totaltime</th>\n",
       "    </tr>\n",
       "  </thead>\n",
       "  <tbody>\n",
       "    <tr>\n",
       "      <td>0</td>\n",
       "      <td>3910000</td>\n",
       "      <td>\"own\"</td>\n",
       "      <td>977.8</td>\n",
       "      <td>26537.2</td>\n",
       "      <td>32458.2</td>\n",
       "    </tr>\n",
       "    <tr>\n",
       "      <td>1</td>\n",
       "      <td>3910000</td>\n",
       "      <td>\"reference\"</td>\n",
       "      <td>322.0</td>\n",
       "      <td>27798.2</td>\n",
       "      <td>33049.0</td>\n",
       "    </tr>\n",
       "    <tr>\n",
       "      <td>2</td>\n",
       "      <td>3910000</td>\n",
       "      <td>\"slice\"</td>\n",
       "      <td>539.4</td>\n",
       "      <td>25559.6</td>\n",
       "      <td>30985.2</td>\n",
       "    </tr>\n",
       "    <tr>\n",
       "      <td>3</td>\n",
       "      <td>3920000</td>\n",
       "      <td>\"own\"</td>\n",
       "      <td>995.4</td>\n",
       "      <td>26114.0</td>\n",
       "      <td>31951.0</td>\n",
       "    </tr>\n",
       "    <tr>\n",
       "      <td>4</td>\n",
       "      <td>3920000</td>\n",
       "      <td>\"reference\"</td>\n",
       "      <td>319.8</td>\n",
       "      <td>27142.0</td>\n",
       "      <td>32297.2</td>\n",
       "    </tr>\n",
       "    <tr>\n",
       "      <td>5</td>\n",
       "      <td>3920000</td>\n",
       "      <td>\"slice\"</td>\n",
       "      <td>530.6</td>\n",
       "      <td>25787.0</td>\n",
       "      <td>31300.6</td>\n",
       "    </tr>\n",
       "    <tr>\n",
       "      <td>6</td>\n",
       "      <td>3930000</td>\n",
       "      <td>\"own\"</td>\n",
       "      <td>989.8</td>\n",
       "      <td>26735.4</td>\n",
       "      <td>32546.2</td>\n",
       "    </tr>\n",
       "    <tr>\n",
       "      <td>7</td>\n",
       "      <td>3930000</td>\n",
       "      <td>\"reference\"</td>\n",
       "      <td>325.2</td>\n",
       "      <td>27608.8</td>\n",
       "      <td>32803.4</td>\n",
       "    </tr>\n",
       "    <tr>\n",
       "      <td>8</td>\n",
       "      <td>3930000</td>\n",
       "      <td>\"slice\"</td>\n",
       "      <td>529.2</td>\n",
       "      <td>26253.0</td>\n",
       "      <td>31714.0</td>\n",
       "    </tr>\n",
       "    <tr>\n",
       "      <td>9</td>\n",
       "      <td>3940000</td>\n",
       "      <td>\"own\"</td>\n",
       "      <td>1002.4</td>\n",
       "      <td>41247.8</td>\n",
       "      <td>47070.4</td>\n",
       "    </tr>\n",
       "    <tr>\n",
       "      <td>10</td>\n",
       "      <td>3940000</td>\n",
       "      <td>\"reference\"</td>\n",
       "      <td>321.6</td>\n",
       "      <td>65156.2</td>\n",
       "      <td>70352.4</td>\n",
       "    </tr>\n",
       "    <tr>\n",
       "      <td>11</td>\n",
       "      <td>3940000</td>\n",
       "      <td>\"slice\"</td>\n",
       "      <td>546.6</td>\n",
       "      <td>67180.0</td>\n",
       "      <td>72744.6</td>\n",
       "    </tr>\n",
       "  </tbody>\n",
       "</table>\n",
       "</div>"
      ],
      "text/plain": [
       "0      size        field  createtime  accesstime  totaltime\n",
       "0   3910000        \"own\"       977.8     26537.2    32458.2\n",
       "1   3910000  \"reference\"       322.0     27798.2    33049.0\n",
       "2   3910000      \"slice\"       539.4     25559.6    30985.2\n",
       "3   3920000        \"own\"       995.4     26114.0    31951.0\n",
       "4   3920000  \"reference\"       319.8     27142.0    32297.2\n",
       "5   3920000      \"slice\"       530.6     25787.0    31300.6\n",
       "6   3930000        \"own\"       989.8     26735.4    32546.2\n",
       "7   3930000  \"reference\"       325.2     27608.8    32803.4\n",
       "8   3930000      \"slice\"       529.2     26253.0    31714.0\n",
       "9   3940000        \"own\"      1002.4     41247.8    47070.4\n",
       "10  3940000  \"reference\"       321.6     65156.2    70352.4\n",
       "11  3940000      \"slice\"       546.6     67180.0    72744.6"
      ]
     },
     "execution_count": 8,
     "metadata": {},
     "output_type": "execute_result"
    }
   ],
   "source": [
    "df_avg"
   ]
  },
  {
   "cell_type": "code",
   "execution_count": 9,
   "metadata": {},
   "outputs": [],
   "source": [
    "def autolabel(rects, ax):\n",
    "    \"\"\"Attach a text label above each bar in *rects*, displaying its height.\"\"\"\n",
    "    for rect in rects:\n",
    "        height = rect.get_height()\n",
    "        ax.annotate('{}'.format(height),\n",
    "                    xy=(rect.get_x() + rect.get_width() / 2, round(height, 3)),\n",
    "                    xytext=(0, 3),  # 3 points vertical offset\n",
    "                    textcoords=\"offset points\",\n",
    "                    ha='center', va='bottom', fontsize = 12)"
   ]
  },
  {
   "cell_type": "code",
   "execution_count": 11,
   "metadata": {},
   "outputs": [
    {
     "name": "stderr",
     "output_type": "stream",
     "text": [
      "The PostScript backend does not support transparency; partially transparent artists will be rendered opaque.\n",
      "The PostScript backend does not support transparency; partially transparent artists will be rendered opaque.\n"
     ]
    },
    {
     "data": {
      "image/png": "[encoded data removed]",
      "text/plain": [
       "<Figure size 1080x720 with 1 Axes>"
      ]
     },
     "metadata": {
      "needs_background": "light"
     },
     "output_type": "display_data"
    }
   ],
   "source": [
    "own = df_avg[df_avg[\"field\"] == '\"own\"']\n",
    "reference = df_avg[df_avg[\"field\"] == '\"reference\"']\n",
    "slice_type = df_avg[df_avg[\"field\"] == '\"slice\"']\n",
    "fig, ax = plt.subplots(figsize = (15, 10))\n",
    "w = 0.2\n",
    "idx = np.arange(df_avg['size'].nunique())\n",
    "b1 = ax.bar(idx - w, round(own[\"accesstime\"] / 1000, 3), width = w, color ='b', align = 'center')\n",
    "b2 = ax.bar(idx , round(reference[\"accesstime\"] / 1000, 3), width = w, color ='y', align = 'center')\n",
    "b3 = ax.bar(idx + w, round(slice_type[\"accesstime\"] / 1000, 3), width = w, color ='g', align = 'center')\n",
    "label = np.sort(df_avg['size'].unique())\n",
    "ax.set_xticks(idx)\n",
    "ax.set_xticklabels(label)\n",
    "ax.set_xlabel(\"Number of Object Accessed.\", fontsize = 15)\n",
    "ax.set_ylabel(\"Runtime of Access to Fields of Object(seconds).\", fontsize = 15)\n",
    "ax.set_title(\"Runtime of Access to String fields of Customer Object.\", fontsize = 15)\n",
    "autolabel(b1, ax)\n",
    "autolabel(b2, ax)\n",
    "autolabel(b3, ax)\n",
    "ax.legend((b1, b2, b3), (\"own\", \"reference\", \"slice\"))\n",
    "#ax.set_yscale('log')\n",
    "fig.savefig(\"rust_different_insertion_init.eps\")\n",
    "#fig.savefig(\"rust_borrowing.png\")\n",
    "plt.show()"
   ]
  },
  {
   "cell_type": "code",
   "execution_count": 11,
   "metadata": {},
   "outputs": [
    {
     "data": {
      "image/png": "[encoded data removed]",
      "text/plain": [
       "<Figure size 1080x720 with 1 Axes>"
      ]
     },
     "metadata": {
      "needs_background": "light"
     },
     "output_type": "display_data"
    }
   ],
   "source": [
    "own = df_avg[df_avg[\"field\"] == '\"own\"']\n",
    "reference = df_avg[df_avg[\"field\"] == '\"reference\"']\n",
    "slice_type = df_avg[df_avg[\"field\"] == '\"slice\"']\n",
    "fig, ax = plt.subplots(figsize = (15, 10))\n",
    "w = 0.2\n",
    "idx = np.arange(df_avg['size'].nunique())\n",
    "b1 = ax.bar(idx - w, own[\"createtime\"] / 1000, width = w, color ='b', align = 'center')\n",
    "b2 = ax.bar(idx , reference[\"createtime\"] / 1000, width = w, color ='y', align = 'center')\n",
    "b3 = ax.bar(idx + w, slice_type[\"createtime\"] / 1000, width = w, color ='g', align = 'center')\n",
    "label = np.sort(df_avg['size'].unique())\n",
    "ax.set_xticks(idx)\n",
    "ax.set_xticklabels(label)\n",
    "ax.set_xlabel(\"Number of Object Accessed.\", fontsize = 15)\n",
    "ax.set_ylabel(\"Runtime of  Creation of Object(seconds).\", fontsize = 15)\n",
    "ax.set_title(\"Runtime of creation of Customer Object.\", fontsize = 15)\n",
    "ax.legend((b1, b2, b3), (\"own\", \"reference\", \"slice\"))\n",
    "#ax.set_yscale('log')\n",
    "#fig.savefig(\"rust_different_insertion_noinit.eps\")\n",
    "#fig.savefig(\"rust_borrowing.png\")\n",
    "plt.show()"
   ]
  },
  {
   "cell_type": "markdown",
   "metadata": {},
   "source": [
    "##### "
   ]
  }
 ],
 "metadata": {
  "kernelspec": {
   "display_name": "Python 3",
   "language": "python",
   "name": "python3"
  },
  "language_info": {
   "codemirror_mode": {
    "name": "ipython",
    "version": 3
   },
   "file_extension": ".py",
   "mimetype": "text/x-python",
   "name": "python",
   "nbconvert_exporter": "python",
   "pygments_lexer": "ipython3",
   "version": "3.7.4"
  },
  "latex_envs": {
   "LaTeX_envs_menu_present": true,
   "autoclose": false,
   "autocomplete": true,
   "bibliofile": "biblio.bib",
   "cite_by": "apalike",
   "current_citInitial": 1,
   "eqLabelWithNumbers": true,
   "eqNumInitial": 1,
   "hotkeys": {
    "equation": "Ctrl-E",
    "itemize": "Ctrl-I"
   },
   "labels_anchors": false,
   "latex_user_defs": false,
   "report_style_numbering": false,
   "user_envs_cfg": false
  }
 },
 "nbformat": 4,
 "nbformat_minor": 2
}
