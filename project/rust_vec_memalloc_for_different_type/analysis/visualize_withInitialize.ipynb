{
 "cells": [
  {
   "cell_type": "code",
   "execution_count": 11,
   "metadata": {},
   "outputs": [],
   "source": [
    "import pandas as pd\n",
    "import numpy as np\n",
    "import matplotlib.pyplot as plt"
   ]
  },
  {
   "cell_type": "code",
   "execution_count": 12,
   "metadata": {},
   "outputs": [],
   "source": [
    "def getDf():\n",
    "    files = {}\n",
    "    for size in [3000000,13000000, 23000000, 33000000]:\n",
    "        with open(\"../result/resultRustOwnerType_init_true_{}.txt\".format(size), \"r\") as f:\n",
    "            files[\"size{}\".format(size)] = [s.strip().split(\"#\") for s in f.readlines()]\n",
    "\n",
    "    dfs = {}\n",
    "    for k in files.keys():\n",
    "        df = pd.DataFrame(files[k])\n",
    "        new_header = df.iloc[0]\n",
    "        df = df[1:]\n",
    "        df.columns = new_header\n",
    "        dfs[k] = df\n",
    "    data = dfs['size3000000']\n",
    "    for s in [13000000, 23000000, 33000000]:\n",
    "        data = pd.concat([data, dfs[\"size{}\".format(s)]])\n",
    "    data = data.astype({\"datastructure\": str, \"init\": str ,\"size\": int, \"field\": str, \"createtime\":int,  \\\n",
    "                        'accesstime': int,\"totaltime\": int})\n",
    "    return data"
   ]
  },
  {
   "cell_type": "code",
   "execution_count": 13,
   "metadata": {},
   "outputs": [],
   "source": [
    "df = getDf()"
   ]
  },
  {
   "cell_type": "code",
   "execution_count": 14,
   "metadata": {},
   "outputs": [
    {
     "data": {
      "text/html": [
       "<div>\n",
       "<style scoped>\n",
       "    .dataframe tbody tr th:only-of-type {\n",
       "        vertical-align: middle;\n",
       "    }\n",
       "\n",
       "    .dataframe tbody tr th {\n",
       "        vertical-align: top;\n",
       "    }\n",
       "\n",
       "    .dataframe thead th {\n",
       "        text-align: right;\n",
       "    }\n",
       "</style>\n",
       "<table border=\"1\" class=\"dataframe\">\n",
       "  <thead>\n",
       "    <tr style=\"text-align: right;\">\n",
       "      <th></th>\n",
       "      <th>datastructure</th>\n",
       "      <th>init</th>\n",
       "      <th>size</th>\n",
       "      <th>field</th>\n",
       "      <th>createtime</th>\n",
       "      <th>accesstime</th>\n",
       "      <th>totaltime</th>\n",
       "    </tr>\n",
       "  </thead>\n",
       "  <tbody>\n",
       "    <tr>\n",
       "      <td>1</td>\n",
       "      <td>[RustVector]</td>\n",
       "      <td>true</td>\n",
       "      <td>3000000</td>\n",
       "      <td>\"own\"</td>\n",
       "      <td>679</td>\n",
       "      <td>16220</td>\n",
       "      <td>20372</td>\n",
       "    </tr>\n",
       "    <tr>\n",
       "      <td>2</td>\n",
       "      <td>[RustVector]</td>\n",
       "      <td>true</td>\n",
       "      <td>3000000</td>\n",
       "      <td>\"own\"</td>\n",
       "      <td>666</td>\n",
       "      <td>16059</td>\n",
       "      <td>20228</td>\n",
       "    </tr>\n",
       "    <tr>\n",
       "      <td>3</td>\n",
       "      <td>[RustVector]</td>\n",
       "      <td>true</td>\n",
       "      <td>3000000</td>\n",
       "      <td>\"own\"</td>\n",
       "      <td>637</td>\n",
       "      <td>17269</td>\n",
       "      <td>21403</td>\n",
       "    </tr>\n",
       "    <tr>\n",
       "      <td>4</td>\n",
       "      <td>[RustVector]</td>\n",
       "      <td>true</td>\n",
       "      <td>3000000</td>\n",
       "      <td>\"own\"</td>\n",
       "      <td>653</td>\n",
       "      <td>16159</td>\n",
       "      <td>20423</td>\n",
       "    </tr>\n",
       "    <tr>\n",
       "      <td>5</td>\n",
       "      <td>[RustVector]</td>\n",
       "      <td>true</td>\n",
       "      <td>3000000</td>\n",
       "      <td>\"own\"</td>\n",
       "      <td>657</td>\n",
       "      <td>16189</td>\n",
       "      <td>20330</td>\n",
       "    </tr>\n",
       "  </tbody>\n",
       "</table>\n",
       "</div>"
      ],
      "text/plain": [
       "0 datastructure  init     size  field  createtime  accesstime  totaltime\n",
       "1  [RustVector]  true  3000000  \"own\"         679       16220      20372\n",
       "2  [RustVector]  true  3000000  \"own\"         666       16059      20228\n",
       "3  [RustVector]  true  3000000  \"own\"         637       17269      21403\n",
       "4  [RustVector]  true  3000000  \"own\"         653       16159      20423\n",
       "5  [RustVector]  true  3000000  \"own\"         657       16189      20330"
      ]
     },
     "execution_count": 14,
     "metadata": {},
     "output_type": "execute_result"
    }
   ],
   "source": [
    "df.head()"
   ]
  },
  {
   "cell_type": "code",
   "execution_count": 15,
   "metadata": {},
   "outputs": [],
   "source": [
    "df_avg = df.groupby([\"size\", \"field\"]).mean().reset_index()"
   ]
  },
  {
   "cell_type": "code",
   "execution_count": 16,
   "metadata": {},
   "outputs": [
    {
     "data": {
      "text/html": [
       "<div>\n",
       "<style scoped>\n",
       "    .dataframe tbody tr th:only-of-type {\n",
       "        vertical-align: middle;\n",
       "    }\n",
       "\n",
       "    .dataframe tbody tr th {\n",
       "        vertical-align: top;\n",
       "    }\n",
       "\n",
       "    .dataframe thead th {\n",
       "        text-align: right;\n",
       "    }\n",
       "</style>\n",
       "<table border=\"1\" class=\"dataframe\">\n",
       "  <thead>\n",
       "    <tr style=\"text-align: right;\">\n",
       "      <th></th>\n",
       "      <th>size</th>\n",
       "      <th>field</th>\n",
       "      <th>createtime</th>\n",
       "      <th>accesstime</th>\n",
       "      <th>totaltime</th>\n",
       "    </tr>\n",
       "  </thead>\n",
       "  <tbody>\n",
       "    <tr>\n",
       "      <td>0</td>\n",
       "      <td>3000000</td>\n",
       "      <td>\"own\"</td>\n",
       "      <td>658.4</td>\n",
       "      <td>16379.2</td>\n",
       "      <td>20551.2</td>\n",
       "    </tr>\n",
       "    <tr>\n",
       "      <td>1</td>\n",
       "      <td>3000000</td>\n",
       "      <td>\"reference\"</td>\n",
       "      <td>209.0</td>\n",
       "      <td>16715.0</td>\n",
       "      <td>20402.8</td>\n",
       "    </tr>\n",
       "    <tr>\n",
       "      <td>2</td>\n",
       "      <td>3000000</td>\n",
       "      <td>\"slice\"</td>\n",
       "      <td>349.6</td>\n",
       "      <td>16137.0</td>\n",
       "      <td>20027.8</td>\n",
       "    </tr>\n",
       "    <tr>\n",
       "      <td>3</td>\n",
       "      <td>13000000</td>\n",
       "      <td>\"own\"</td>\n",
       "      <td>3046.0</td>\n",
       "      <td>71509.0</td>\n",
       "      <td>90954.0</td>\n",
       "    </tr>\n",
       "    <tr>\n",
       "      <td>4</td>\n",
       "      <td>13000000</td>\n",
       "      <td>\"reference\"</td>\n",
       "      <td>980.6</td>\n",
       "      <td>73107.6</td>\n",
       "      <td>91199.8</td>\n",
       "    </tr>\n",
       "    <tr>\n",
       "      <td>5</td>\n",
       "      <td>13000000</td>\n",
       "      <td>\"slice\"</td>\n",
       "      <td>1817.8</td>\n",
       "      <td>71127.0</td>\n",
       "      <td>89605.2</td>\n",
       "    </tr>\n",
       "    <tr>\n",
       "      <td>6</td>\n",
       "      <td>23000000</td>\n",
       "      <td>\"own\"</td>\n",
       "      <td>7134.0</td>\n",
       "      <td>126084.2</td>\n",
       "      <td>163108.8</td>\n",
       "    </tr>\n",
       "    <tr>\n",
       "      <td>7</td>\n",
       "      <td>23000000</td>\n",
       "      <td>\"reference\"</td>\n",
       "      <td>1781.0</td>\n",
       "      <td>128894.6</td>\n",
       "      <td>160525.4</td>\n",
       "    </tr>\n",
       "    <tr>\n",
       "      <td>8</td>\n",
       "      <td>23000000</td>\n",
       "      <td>\"slice\"</td>\n",
       "      <td>3163.8</td>\n",
       "      <td>126795.2</td>\n",
       "      <td>160608.6</td>\n",
       "    </tr>\n",
       "    <tr>\n",
       "      <td>9</td>\n",
       "      <td>33000000</td>\n",
       "      <td>\"own\"</td>\n",
       "      <td>11238.4</td>\n",
       "      <td>180979.0</td>\n",
       "      <td>235801.0</td>\n",
       "    </tr>\n",
       "    <tr>\n",
       "      <td>10</td>\n",
       "      <td>33000000</td>\n",
       "      <td>\"reference\"</td>\n",
       "      <td>2412.6</td>\n",
       "      <td>185476.6</td>\n",
       "      <td>232175.2</td>\n",
       "    </tr>\n",
       "    <tr>\n",
       "      <td>11</td>\n",
       "      <td>33000000</td>\n",
       "      <td>\"slice\"</td>\n",
       "      <td>4784.6</td>\n",
       "      <td>179164.4</td>\n",
       "      <td>228725.6</td>\n",
       "    </tr>\n",
       "  </tbody>\n",
       "</table>\n",
       "</div>"
      ],
      "text/plain": [
       "0       size        field  createtime  accesstime  totaltime\n",
       "0    3000000        \"own\"       658.4     16379.2    20551.2\n",
       "1    3000000  \"reference\"       209.0     16715.0    20402.8\n",
       "2    3000000      \"slice\"       349.6     16137.0    20027.8\n",
       "3   13000000        \"own\"      3046.0     71509.0    90954.0\n",
       "4   13000000  \"reference\"       980.6     73107.6    91199.8\n",
       "5   13000000      \"slice\"      1817.8     71127.0    89605.2\n",
       "6   23000000        \"own\"      7134.0    126084.2   163108.8\n",
       "7   23000000  \"reference\"      1781.0    128894.6   160525.4\n",
       "8   23000000      \"slice\"      3163.8    126795.2   160608.6\n",
       "9   33000000        \"own\"     11238.4    180979.0   235801.0\n",
       "10  33000000  \"reference\"      2412.6    185476.6   232175.2\n",
       "11  33000000      \"slice\"      4784.6    179164.4   228725.6"
      ]
     },
     "execution_count": 16,
     "metadata": {},
     "output_type": "execute_result"
    }
   ],
   "source": [
    "df_avg"
   ]
  },
  {
   "cell_type": "code",
   "execution_count": 17,
   "metadata": {},
   "outputs": [],
   "source": [
    "def autolabel(rects, ax):\n",
    "    \"\"\"Attach a text label above each bar in *rects*, displaying its height.\"\"\"\n",
    "    for rect in rects:\n",
    "        height = rect.get_height()\n",
    "        ax.annotate('{}'.format(height),\n",
    "                    xy=(rect.get_x() + rect.get_width() / 2, round(height, 3)),\n",
    "                    xytext=(0, 3),  # 3 points vertical offset\n",
    "                    textcoords=\"offset points\",\n",
    "                    ha='center', va='bottom', fontsize = 12)"
   ]
  },
  {
   "cell_type": "code",
   "execution_count": 20,
   "metadata": {},
   "outputs": [
    {
     "name": "stderr",
     "output_type": "stream",
     "text": [
      "The PostScript backend does not support transparency; partially transparent artists will be rendered opaque.\n",
      "The PostScript backend does not support transparency; partially transparent artists will be rendered opaque.\n"
     ]
    },
    {
     "data": {
      "image/png": "[encoded data removed]",
      "text/plain": [
       "<Figure size 1080x720 with 1 Axes>"
      ]
     },
     "metadata": {
      "needs_background": "light"
     },
     "output_type": "display_data"
    }
   ],
   "source": [
    "own = df_avg[df_avg[\"field\"] == '\"own\"']\n",
    "reference = df_avg[df_avg[\"field\"] == '\"reference\"']\n",
    "slice_type = df_avg[df_avg[\"field\"] == '\"slice\"']\n",
    "fig, ax = plt.subplots(figsize = (15, 10))\n",
    "w = 0.2\n",
    "idx = np.arange(df_avg['size'].nunique())\n",
    "b1 = ax.bar(idx - w, round(own[\"accesstime\"] / 1000, 1), width = w, color ='b', align = 'center')\n",
    "b2 = ax.bar(idx , round(reference[\"accesstime\"] / 1000, 1), width = w, color ='y', align = 'center')\n",
    "b3 = ax.bar(idx + w, round(slice_type[\"accesstime\"] / 1000, 1), width = w, color ='g', align = 'center')\n",
    "label = np.sort(df_avg['size'].unique())\n",
    "ax.set_xticks(idx)\n",
    "ax.set_xticklabels([str(int(n)) + \"M\" for n in (label / 1000000)], fontsize = 12)\n",
    "ax.set_xlabel(\"Number of Object Accessed.\", fontsize = 15)\n",
    "ax.set_ylabel(\"Runtime of Access to Fields of Object(seconds).\", fontsize = 15)\n",
    "ax.set_title(\"Runtime of Access to String fields of Customer Object.\", fontsize = 15)\n",
    "autolabel(b1, ax)\n",
    "autolabel(b2, ax)\n",
    "autolabel(b3, ax)\n",
    "ax.legend((b1, b2, b3), (\"own\", \"reference\", \"slice\"))\n",
    "#ax.set_yscale('log')\n",
    "fig.savefig(\"rust_access_different_poniter_init.eps\")\n",
    "#fig.savefig(\"rust_borrowing.png\")\n",
    "plt.show()"
   ]
  },
  {
   "cell_type": "code",
   "execution_count": 10,
   "metadata": {},
   "outputs": [
    {
     "data": {
      "image/png": "[encoded data removed]",
      "text/plain": [
       "<Figure size 1080x720 with 1 Axes>"
      ]
     },
     "metadata": {
      "needs_background": "light"
     },
     "output_type": "display_data"
    }
   ],
   "source": [
    "own = df_avg[df_avg[\"field\"] == '\"own\"']\n",
    "reference = df_avg[df_avg[\"field\"] == '\"reference\"']\n",
    "slice_type = df_avg[df_avg[\"field\"] == '\"slice\"']\n",
    "fig, ax = plt.subplots(figsize = (15, 10))\n",
    "w = 0.2\n",
    "idx = np.arange(df_avg['size'].nunique())\n",
    "b1 = ax.bar(idx - w, own[\"createtime\"] / 1000, width = w, color ='b', align = 'center')\n",
    "b2 = ax.bar(idx , reference[\"createtime\"] / 1000, width = w, color ='y', align = 'center')\n",
    "b3 = ax.bar(idx + w, slice_type[\"createtime\"] / 1000, width = w, color ='g', align = 'center')\n",
    "label = np.sort(df_avg['size'].unique())\n",
    "ax.set_xticks(idx)\n",
    "ax.set_xticklabels(label)\n",
    "ax.set_xlabel(\"Number of Object Accessed.\", fontsize = 15)\n",
    "ax.set_ylabel(\"Runtime of  Creation of Object(seconds).\", fontsize = 15)\n",
    "ax.set_title(\"Runtime of creation of Customer Object.\", fontsize = 15)\n",
    "ax.legend((b1, b2, b3), (\"own\", \"reference\", \"slice\"))\n",
    "#ax.set_yscale('log')\n",
    "#fig.savefig(\"rust_different_insertion_noinit.eps\")\n",
    "#fig.savefig(\"rust_borrowing.png\")\n",
    "plt.show()"
   ]
  },
  {
   "cell_type": "markdown",
   "metadata": {},
   "source": [
    "##### "
   ]
  },
  {
   "cell_type": "code",
   "execution_count": 39,
   "metadata": {},
   "outputs": [],
   "source": [
    "vs = own[\"accesstime\"].values\n",
    "p_diff = np.array([])\n",
    "for i in range(1, vs.shape[0]):\n",
    "    v = (vs[i] - vs[i - 1]) \n",
    "    p_diff = np.append(p_diff, v)"
   ]
  },
  {
   "cell_type": "code",
   "execution_count": 40,
   "metadata": {},
   "outputs": [
    {
     "data": {
      "text/plain": [
       "array([11274.4, 13540. , 16253.6, 17937.2, 23065.8, 24922.6])"
      ]
     },
     "execution_count": 40,
     "metadata": {},
     "output_type": "execute_result"
    }
   ],
   "source": [
    "vs"
   ]
  },
  {
   "cell_type": "code",
   "execution_count": 48,
   "metadata": {},
   "outputs": [
    {
     "data": {
      "text/plain": [
       "array([2265.6, 2713.6, 1683.6, 5128.6, 1856.8])"
      ]
     },
     "execution_count": 48,
     "metadata": {},
     "output_type": "execute_result"
    }
   ],
   "source": [
    "p_diff"
   ]
  },
  {
   "cell_type": "code",
   "execution_count": 42,
   "metadata": {},
   "outputs": [
    {
     "data": {
      "text/plain": [
       "array([755.2       , 387.65714286, 561.2       , 732.65714286,\n",
       "       618.93333333])"
      ]
     },
     "execution_count": 42,
     "metadata": {},
     "output_type": "execute_result"
    }
   ],
   "source": [
    "p_diff / np.array([3, 7, 3, 7, 3])"
   ]
  },
  {
   "cell_type": "code",
   "execution_count": 47,
   "metadata": {},
   "outputs": [
    {
     "data": {
      "text/plain": [
       "121.05477896828212"
      ]
     },
     "execution_count": 47,
     "metadata": {},
     "output_type": "execute_result"
    }
   ],
   "source": [
    "((vs[5] - vs[0]) / vs[0]) * 100 "
   ]
  },
  {
   "cell_type": "code",
   "execution_count": 56,
   "metadata": {},
   "outputs": [
    {
     "data": {
      "text/plain": [
       "array([20.09508267, 20.04135894, 10.35832062, 28.59197645,  8.05001344])"
      ]
     },
     "execution_count": 56,
     "metadata": {},
     "output_type": "execute_result"
    }
   ],
   "source": [
    "(p_diff / vs[:][:5]) * 100"
   ]
  },
  {
   "cell_type": "code",
   "execution_count": null,
   "metadata": {},
   "outputs": [],
   "source": []
  }
 ],
 "metadata": {
  "kernelspec": {
   "display_name": "Python 3",
   "language": "python",
   "name": "python3"
  },
  "language_info": {
   "codemirror_mode": {
    "name": "ipython",
    "version": 3
   },
   "file_extension": ".py",
   "mimetype": "text/x-python",
   "name": "python",
   "nbconvert_exporter": "python",
   "pygments_lexer": "ipython3",
   "version": "3.7.4"
  },
  "latex_envs": {
   "LaTeX_envs_menu_present": true,
   "autoclose": false,
   "autocomplete": true,
   "bibliofile": "biblio.bib",
   "cite_by": "apalike",
   "current_citInitial": 1,
   "eqLabelWithNumbers": true,
   "eqNumInitial": 1,
   "hotkeys": {
    "equation": "Ctrl-E",
    "itemize": "Ctrl-I"
   },
   "labels_anchors": false,
   "latex_user_defs": false,
   "report_style_numbering": false,
   "user_envs_cfg": false
  }
 },
 "nbformat": 4,
 "nbformat_minor": 2
}
