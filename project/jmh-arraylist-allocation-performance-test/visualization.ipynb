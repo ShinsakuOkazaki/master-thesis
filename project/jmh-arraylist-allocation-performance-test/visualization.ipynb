{
 "cells": [
  {
   "cell_type": "code",
   "execution_count": 1,
   "metadata": {},
   "outputs": [],
   "source": [
    "import pandas as pd\n",
    "import numpy as np\n",
    "import matplotlib.pyplot as plt\n",
    "import json"
   ]
  },
  {
   "cell_type": "code",
   "execution_count": 2,
   "metadata": {},
   "outputs": [],
   "source": [
    "with open(\"jmh-result.json\", \"r\") as file:\n",
    "    json_file = json.load(file)"
   ]
  },
  {
   "cell_type": "code",
   "execution_count": 3,
   "metadata": {},
   "outputs": [],
   "source": [
    "import re\n"
   ]
  },
  {
   "cell_type": "code",
   "execution_count": 14,
   "metadata": {},
   "outputs": [],
   "source": [
    "average_time = {}\n",
    "for i in range(len(json_file)):\n",
    "    benchmark = json_file[i]['benchmark']\n",
    "    benchmark = re.sub('com.test.MyBenchmark.test',\"\", benchmark)\n",
    "    benchmark = tuple(map(int, benchmark.split(\"vs\")))\n",
    "    time = json_file[i]['primaryMetric']['score']\n",
    "    average_time[benchmark] = time"
   ]
  },
  {
   "cell_type": "code",
   "execution_count": 6,
   "metadata": {},
   "outputs": [],
   "source": [
    "final_size = []\n",
    "initial_size = []\n",
    "time = []\n",
    "for k, v in average_time.items():\n",
    "    final_size.append(k[0])\n",
    "    initial_size.append(k[1])\n",
    "    time.append(v)"
   ]
  },
  {
   "cell_type": "code",
   "execution_count": 15,
   "metadata": {},
   "outputs": [
    {
     "data": {
      "text/plain": [
       "{(9999, 10): 100010.6559468856,\n",
       " (9999, 100): 101935.29807834513,\n",
       " (9999, 1000): 98693.81658958146,\n",
       " (9999, 10000): 48579.73788248475,\n",
       " (999, 10): 9165.53726703801,\n",
       " (999, 100): 10883.756454038541,\n",
       " (999, 1000): 4250.204251224669,\n",
       " (999, 10000): 12426.931422468677,\n",
       " (99, 10): 837.0381426711787,\n",
       " (99, 100): 623.358948266474,\n",
       " (99, 1000): 1125.3516975104933,\n",
       " (99, 10000): 7680.472465150415,\n",
       " (9, 10): 52.87015842583219,\n",
       " (9, 100): 76.71490239979849,\n",
       " (9, 1000): 965.4372092017766,\n",
       " (9, 10000): 7570.84995865862}"
      ]
     },
     "execution_count": 15,
     "metadata": {},
     "output_type": "execute_result"
    }
   ],
   "source": [
    "average_time"
   ]
  },
  {
   "cell_type": "code",
   "execution_count": 13,
   "metadata": {},
   "outputs": [],
   "source": [
    "df = pd.DataFrame(data = {\"final_size\": final_size, \"initial_size\": initial_size, \"average_time\": time})"
   ]
  },
  {
   "cell_type": "code",
   "execution_count": 8,
   "metadata": {},
   "outputs": [
    {
     "data": {
      "text/html": [
       "<div>\n",
       "<style scoped>\n",
       "    .dataframe tbody tr th:only-of-type {\n",
       "        vertical-align: middle;\n",
       "    }\n",
       "\n",
       "    .dataframe tbody tr th {\n",
       "        vertical-align: top;\n",
       "    }\n",
       "\n",
       "    .dataframe thead th {\n",
       "        text-align: right;\n",
       "    }\n",
       "</style>\n",
       "<table border=\"1\" class=\"dataframe\">\n",
       "  <thead>\n",
       "    <tr style=\"text-align: right;\">\n",
       "      <th></th>\n",
       "      <th>final_size</th>\n",
       "      <th>initial_size</th>\n",
       "      <th>average_time</th>\n",
       "    </tr>\n",
       "  </thead>\n",
       "  <tbody>\n",
       "    <tr>\n",
       "      <td>0</td>\n",
       "      <td>9999</td>\n",
       "      <td>10</td>\n",
       "      <td>100010.655947</td>\n",
       "    </tr>\n",
       "    <tr>\n",
       "      <td>1</td>\n",
       "      <td>9999</td>\n",
       "      <td>100</td>\n",
       "      <td>101935.298078</td>\n",
       "    </tr>\n",
       "    <tr>\n",
       "      <td>2</td>\n",
       "      <td>9999</td>\n",
       "      <td>1000</td>\n",
       "      <td>98693.816590</td>\n",
       "    </tr>\n",
       "    <tr>\n",
       "      <td>3</td>\n",
       "      <td>9999</td>\n",
       "      <td>10000</td>\n",
       "      <td>48579.737882</td>\n",
       "    </tr>\n",
       "    <tr>\n",
       "      <td>4</td>\n",
       "      <td>999</td>\n",
       "      <td>10</td>\n",
       "      <td>9165.537267</td>\n",
       "    </tr>\n",
       "    <tr>\n",
       "      <td>5</td>\n",
       "      <td>999</td>\n",
       "      <td>100</td>\n",
       "      <td>10883.756454</td>\n",
       "    </tr>\n",
       "    <tr>\n",
       "      <td>6</td>\n",
       "      <td>999</td>\n",
       "      <td>1000</td>\n",
       "      <td>4250.204251</td>\n",
       "    </tr>\n",
       "    <tr>\n",
       "      <td>7</td>\n",
       "      <td>999</td>\n",
       "      <td>10000</td>\n",
       "      <td>12426.931422</td>\n",
       "    </tr>\n",
       "    <tr>\n",
       "      <td>8</td>\n",
       "      <td>99</td>\n",
       "      <td>10</td>\n",
       "      <td>837.038143</td>\n",
       "    </tr>\n",
       "    <tr>\n",
       "      <td>9</td>\n",
       "      <td>99</td>\n",
       "      <td>100</td>\n",
       "      <td>623.358948</td>\n",
       "    </tr>\n",
       "    <tr>\n",
       "      <td>10</td>\n",
       "      <td>99</td>\n",
       "      <td>1000</td>\n",
       "      <td>1125.351698</td>\n",
       "    </tr>\n",
       "    <tr>\n",
       "      <td>11</td>\n",
       "      <td>99</td>\n",
       "      <td>10000</td>\n",
       "      <td>7680.472465</td>\n",
       "    </tr>\n",
       "    <tr>\n",
       "      <td>12</td>\n",
       "      <td>9</td>\n",
       "      <td>10</td>\n",
       "      <td>52.870158</td>\n",
       "    </tr>\n",
       "    <tr>\n",
       "      <td>13</td>\n",
       "      <td>9</td>\n",
       "      <td>100</td>\n",
       "      <td>76.714902</td>\n",
       "    </tr>\n",
       "    <tr>\n",
       "      <td>14</td>\n",
       "      <td>9</td>\n",
       "      <td>1000</td>\n",
       "      <td>965.437209</td>\n",
       "    </tr>\n",
       "    <tr>\n",
       "      <td>15</td>\n",
       "      <td>9</td>\n",
       "      <td>10000</td>\n",
       "      <td>7570.849959</td>\n",
       "    </tr>\n",
       "  </tbody>\n",
       "</table>\n",
       "</div>"
      ],
      "text/plain": [
       "    final_size  initial_size   average_time\n",
       "0         9999            10  100010.655947\n",
       "1         9999           100  101935.298078\n",
       "2         9999          1000   98693.816590\n",
       "3         9999         10000   48579.737882\n",
       "4          999            10    9165.537267\n",
       "5          999           100   10883.756454\n",
       "6          999          1000    4250.204251\n",
       "7          999         10000   12426.931422\n",
       "8           99            10     837.038143\n",
       "9           99           100     623.358948\n",
       "10          99          1000    1125.351698\n",
       "11          99         10000    7680.472465\n",
       "12           9            10      52.870158\n",
       "13           9           100      76.714902\n",
       "14           9          1000     965.437209\n",
       "15           9         10000    7570.849959"
      ]
     },
     "execution_count": 8,
     "metadata": {},
     "output_type": "execute_result"
    }
   ],
   "source": [
    "df"
   ]
  },
  {
   "cell_type": "code",
   "execution_count": 16,
   "metadata": {},
   "outputs": [
    {
     "data": {
      "text/plain": [
       "[9999, 9999, 9999, 9999, 999, 999, 999, 999, 99, 99, 99, 99, 9, 9, 9, 9]"
      ]
     },
     "execution_count": 16,
     "metadata": {},
     "output_type": "execute_result"
    }
   ],
   "source": [
    "final_size"
   ]
  },
  {
   "cell_type": "code",
   "execution_count": 17,
   "metadata": {},
   "outputs": [
    {
     "data": {
      "image/png": "[encoded data removed]",
      "text/plain": [
       "<Figure size 720x720 with 4 Axes>"
      ]
     },
     "metadata": {
      "needs_background": "light"
     },
     "output_type": "display_data"
    }
   ],
   "source": [
    "fig, axs = plt.subplots(2, 2, figsize=(10, 10))\n",
    "idx = 0\n",
    "di = [0, 0, 1, 1]\n",
    "dj = [0, 1, 0, 1]\n",
    "for n in sorted(set(final_size)):\n",
    "    df_n = df[df['final_size'] == n]\n",
    "    axs[di[idx], dj[idx]].set_title(\"Final Size \"+str(n))\n",
    "    axs[di[idx], dj[idx]].set_xlabel(\"initial_size\")\n",
    "    axs[di[idx], dj[idx]].set_ylabel(\"average_time\")\n",
    "    axs[di[idx], dj[idx]].plot(df_n['initial_size'], df_n['average_time'], marker='.', markersize=10)\n",
    "    idx += 1\n",
    "fig.savefig(\"java_arraylist.eps\")"
   ]
  },
  {
   "cell_type": "code",
   "execution_count": null,
   "metadata": {},
   "outputs": [],
   "source": []
  }
 ],
 "metadata": {
  "kernelspec": {
   "display_name": "Python 3",
   "language": "python",
   "name": "python3"
  },
  "language_info": {
   "codemirror_mode": {
    "name": "ipython",
    "version": 3
   },
   "file_extension": ".py",
   "mimetype": "text/x-python",
   "name": "python",
   "nbconvert_exporter": "python",
   "pygments_lexer": "ipython3",
   "version": "3.7.4"
  }
 },
 "nbformat": 4,
 "nbformat_minor": 2
}
