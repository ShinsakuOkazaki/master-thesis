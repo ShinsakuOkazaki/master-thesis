{
 "cells": [
  {
   "cell_type": "code",
   "execution_count": 10,
   "metadata": {},
   "outputs": [],
   "source": [
    "files = {}\n",
    "for size in range(1, 5):\n",
    "    with open(\"../result/resultJavaAllocObject_{}.txt\".format(size), \"r\") as f:\n",
    "        files[\"size{}\".format(size)] = [s.strip().split(\"#\") for s in f.readlines()]"
   ]
  },
  {
   "cell_type": "code",
   "execution_count": 11,
   "metadata": {},
   "outputs": [],
   "source": [
    "import pandas as pd\n",
    "import numpy as np\n",
    "import matplotlib.pyplot as plt"
   ]
  },
  {
   "cell_type": "code",
   "execution_count": 12,
   "metadata": {},
   "outputs": [],
   "source": [
    "dfs = {}\n",
    "for k in files.keys():\n",
    "    df = pd.DataFrame(files[k])\n",
    "    new_header = df.iloc[0]\n",
    "    df = df[1:]\n",
    "    df.columns = new_header\n",
    "    for col in [\"size\", 'inittime', 'addtime', 'totaltime']:\n",
    "        df[col] = df[col].map(lambda x: int(x))\n",
    "    df['initialization'] = df['initialization'].map(lambda x: True if x == \"true\" else False)\n",
    "    dfs[k] = df"
   ]
  },
  {
   "cell_type": "code",
   "execution_count": 13,
   "metadata": {},
   "outputs": [],
   "source": [
    "df = dfs['size1']\n",
    "for s in range(2, 5):\n",
    "    df = pd.concat([df, dfs[\"size{}\".format(s)]])"
   ]
  },
  {
   "cell_type": "code",
   "execution_count": 14,
   "metadata": {},
   "outputs": [
    {
     "data": {
      "text/html": [
       "<div>\n",
       "<style scoped>\n",
       "    .dataframe tbody tr th:only-of-type {\n",
       "        vertical-align: middle;\n",
       "    }\n",
       "\n",
       "    .dataframe tbody tr th {\n",
       "        vertical-align: top;\n",
       "    }\n",
       "\n",
       "    .dataframe thead th {\n",
       "        text-align: right;\n",
       "    }\n",
       "</style>\n",
       "<table border=\"1\" class=\"dataframe\">\n",
       "  <thead>\n",
       "    <tr style=\"text-align: right;\">\n",
       "      <th></th>\n",
       "      <th>datastructure</th>\n",
       "      <th>initialization</th>\n",
       "      <th>size</th>\n",
       "      <th>inittime</th>\n",
       "      <th>addtime</th>\n",
       "      <th>totaltime</th>\n",
       "    </tr>\n",
       "  </thead>\n",
       "  <tbody>\n",
       "    <tr>\n",
       "      <td>1</td>\n",
       "      <td>[JavaArrayList]</td>\n",
       "      <td>True</td>\n",
       "      <td>10</td>\n",
       "      <td>41929</td>\n",
       "      <td>977352</td>\n",
       "      <td>1019558</td>\n",
       "    </tr>\n",
       "    <tr>\n",
       "      <td>2</td>\n",
       "      <td>[JavaArrayList]</td>\n",
       "      <td>False</td>\n",
       "      <td>10</td>\n",
       "      <td>35485</td>\n",
       "      <td>2388792</td>\n",
       "      <td>2424589</td>\n",
       "    </tr>\n",
       "    <tr>\n",
       "      <td>3</td>\n",
       "      <td>[JavaArrayList]</td>\n",
       "      <td>True</td>\n",
       "      <td>10</td>\n",
       "      <td>23236</td>\n",
       "      <td>910697</td>\n",
       "      <td>934307</td>\n",
       "    </tr>\n",
       "    <tr>\n",
       "      <td>4</td>\n",
       "      <td>[JavaArrayList]</td>\n",
       "      <td>False</td>\n",
       "      <td>10</td>\n",
       "      <td>20325</td>\n",
       "      <td>888383</td>\n",
       "      <td>909009</td>\n",
       "    </tr>\n",
       "    <tr>\n",
       "      <td>5</td>\n",
       "      <td>[JavaArrayList]</td>\n",
       "      <td>True</td>\n",
       "      <td>10</td>\n",
       "      <td>31417</td>\n",
       "      <td>2305622</td>\n",
       "      <td>2337384</td>\n",
       "    </tr>\n",
       "  </tbody>\n",
       "</table>\n",
       "</div>"
      ],
      "text/plain": [
       "0    datastructure  initialization  size  inittime  addtime  totaltime\n",
       "1  [JavaArrayList]            True    10     41929   977352    1019558\n",
       "2  [JavaArrayList]           False    10     35485  2388792    2424589\n",
       "3  [JavaArrayList]            True    10     23236   910697     934307\n",
       "4  [JavaArrayList]           False    10     20325   888383     909009\n",
       "5  [JavaArrayList]            True    10     31417  2305622    2337384"
      ]
     },
     "execution_count": 14,
     "metadata": {},
     "output_type": "execute_result"
    }
   ],
   "source": [
    "df.head()"
   ]
  },
  {
   "cell_type": "code",
   "execution_count": 15,
   "metadata": {},
   "outputs": [],
   "source": [
    "withoutInit = df[df[\"initialization\"] != True].groupby('size').mean()\n",
    "withInit = df[df[\"initialization\"] == True].groupby('size').mean()"
   ]
  },
  {
   "cell_type": "code",
   "execution_count": 16,
   "metadata": {},
   "outputs": [
    {
     "data": {
      "text/html": [
       "<div>\n",
       "<style scoped>\n",
       "    .dataframe tbody tr th:only-of-type {\n",
       "        vertical-align: middle;\n",
       "    }\n",
       "\n",
       "    .dataframe tbody tr th {\n",
       "        vertical-align: top;\n",
       "    }\n",
       "\n",
       "    .dataframe thead th {\n",
       "        text-align: right;\n",
       "    }\n",
       "</style>\n",
       "<table border=\"1\" class=\"dataframe\">\n",
       "  <thead>\n",
       "    <tr style=\"text-align: right;\">\n",
       "      <th></th>\n",
       "      <th>initialization</th>\n",
       "      <th>inittime</th>\n",
       "      <th>addtime</th>\n",
       "      <th>totaltime</th>\n",
       "    </tr>\n",
       "    <tr>\n",
       "      <th>size</th>\n",
       "      <th></th>\n",
       "      <th></th>\n",
       "      <th></th>\n",
       "      <th></th>\n",
       "    </tr>\n",
       "  </thead>\n",
       "  <tbody>\n",
       "    <tr>\n",
       "      <td>10</td>\n",
       "      <td>False</td>\n",
       "      <td>23228.8</td>\n",
       "      <td>1203568.8</td>\n",
       "      <td>1227110.6</td>\n",
       "    </tr>\n",
       "    <tr>\n",
       "      <td>100</td>\n",
       "      <td>False</td>\n",
       "      <td>21396.6</td>\n",
       "      <td>3297770.8</td>\n",
       "      <td>3319503.6</td>\n",
       "    </tr>\n",
       "    <tr>\n",
       "      <td>1000</td>\n",
       "      <td>False</td>\n",
       "      <td>26275.2</td>\n",
       "      <td>10860500.6</td>\n",
       "      <td>10887214.4</td>\n",
       "    </tr>\n",
       "    <tr>\n",
       "      <td>10000</td>\n",
       "      <td>False</td>\n",
       "      <td>21678.4</td>\n",
       "      <td>50428837.6</td>\n",
       "      <td>50451246.2</td>\n",
       "    </tr>\n",
       "  </tbody>\n",
       "</table>\n",
       "</div>"
      ],
      "text/plain": [
       "0      initialization  inittime     addtime   totaltime\n",
       "size                                                   \n",
       "10              False   23228.8   1203568.8   1227110.6\n",
       "100             False   21396.6   3297770.8   3319503.6\n",
       "1000            False   26275.2  10860500.6  10887214.4\n",
       "10000           False   21678.4  50428837.6  50451246.2"
      ]
     },
     "execution_count": 16,
     "metadata": {},
     "output_type": "execute_result"
    }
   ],
   "source": [
    "withoutInit"
   ]
  },
  {
   "cell_type": "code",
   "execution_count": 7,
   "metadata": {},
   "outputs": [
    {
     "name": "stderr",
     "output_type": "stream",
     "text": [
      "The PostScript backend does not support transparency; partially transparent artists will be rendered opaque.\n",
      "The PostScript backend does not support transparency; partially transparent artists will be rendered opaque.\n"
     ]
    },
    {
     "data": {
      "image/png": "[encoded data removed]",
      "text/plain": [
       "<Figure size 720x576 with 1 Axes>"
      ]
     },
     "metadata": {
      "needs_background": "light"
     },
     "output_type": "display_data"
    }
   ],
   "source": [
    "# Barplot.\n",
    "average_withInit = withInit.addtime\n",
    "average_withoutInit = withoutInit.addtime\n",
    "labels = np.array(withInit.index)\n",
    "x = np.arange(len(labels))\n",
    "width = 0.35 \n",
    "fig, ax = plt.subplots(figsize = (10, 8))\n",
    "rects1 = ax.bar(x - width/2, average_withInit, width, label='with initialization')\n",
    "rects2 = ax.bar(x + width/2, average_withoutInit, width, label='without initialization')\n",
    "ax.set_title(\"Average Runtime of Elements Addition\")\n",
    "ax.set_xlabel(\"size\")\n",
    "ax.set_ylabel(\"average_time\")\n",
    "ax.set_xticks(x)\n",
    "ax.set_xticklabels(labels)\n",
    "ax.legend()\n",
    "def autolabel(rects):\n",
    "    \"\"\"Attach a text label above each bar in *rects*, displaying its height.\"\"\"\n",
    "    for rect in rects:\n",
    "        height = rect.get_height()\n",
    "        ax.annotate('{}'.format(height),\n",
    "                    xy=(rect.get_x() + rect.get_width() / 2, height),\n",
    "                    xytext=(0, 3),  # 3 points vertical offset\n",
    "                    textcoords=\"offset points\",\n",
    "                    ha='center', va='bottom')\n",
    "autolabel(rects1)\n",
    "autolabel(rects2)\n",
    "\n",
    "fig.tight_layout()\n",
    "fig.savefig(\"java_arraylist_object.eps\")\n",
    "plt.show()"
   ]
  },
  {
   "cell_type": "code",
   "execution_count": 8,
   "metadata": {},
   "outputs": [
    {
     "name": "stderr",
     "output_type": "stream",
     "text": [
      "The PostScript backend does not support transparency; partially transparent artists will be rendered opaque.\n",
      "The PostScript backend does not support transparency; partially transparent artists will be rendered opaque.\n"
     ]
    },
    {
     "data": {
      "image/png": "[encoded data removed]",
      "text/plain": [
       "<Figure size 720x576 with 1 Axes>"
      ]
     },
     "metadata": {
      "needs_background": "light"
     },
     "output_type": "display_data"
    }
   ],
   "source": [
    "# Barplot taking log.\n",
    "average_withInit = withInit.addtime\n",
    "average_withoutInit = withoutInit.addtime\n",
    "labels = np.array(withInit.index)\n",
    "x = np.arange(len(labels))\n",
    "width = 0.35 \n",
    "fig, ax = plt.subplots(figsize = (10, 8))\n",
    "rects1 = ax.bar(x - width/2, np.round(np.log(average_withInit), 6), width, label='with initialization')\n",
    "rects2 = ax.bar(x + width/2, np.round(np.log(average_withoutInit), 6), width, label='without initialization')\n",
    "ax.set_title(\"Average Runtime of Elements Addition\")\n",
    "ax.set_xlabel(\"size\")\n",
    "ax.set_ylabel(\"average_time\")\n",
    "ax.set_xticks(x)\n",
    "ax.set_xticklabels(labels)\n",
    "ax.legend()\n",
    "def autolabel(rects):\n",
    "    \"\"\"Attach a text label above each bar in *rects*, displaying its height.\"\"\"\n",
    "    for rect in rects:\n",
    "        height = rect.get_height()\n",
    "        ax.annotate('{}'.format(height),\n",
    "                    xy=(rect.get_x() + rect.get_width() / 2, height),\n",
    "                    xytext=(0, 3),  # 3 points vertical offset\n",
    "                    textcoords=\"offset points\",\n",
    "                    ha='center', va='bottom')\n",
    "autolabel(rects1)\n",
    "autolabel(rects2)\n",
    "\n",
    "fig.tight_layout()\n",
    "fig.savefig(\"java_arraylist_object_log.eps\")\n",
    "plt.show()"
   ]
  },
  {
   "cell_type": "code",
   "execution_count": 9,
   "metadata": {},
   "outputs": [
    {
     "name": "stderr",
     "output_type": "stream",
     "text": [
      "The PostScript backend does not support transparency; partially transparent artists will be rendered opaque.\n",
      "The PostScript backend does not support transparency; partially transparent artists will be rendered opaque.\n"
     ]
    },
    {
     "data": {
      "image/png": "[encoded data removed]",
      "text/plain": [
       "<Figure size 720x576 with 1 Axes>"
      ]
     },
     "metadata": {
      "needs_background": "light"
     },
     "output_type": "display_data"
    }
   ],
   "source": [
    "# Barplot taking percent of improvement\n",
    "average_withInit = withInit.addtime\n",
    "average_withoutInit = withoutInit.addtime\n",
    "\n",
    "improve_percent_withInit = ((average_withInit.to_numpy()[1:]  - average_withInit.to_numpy()[0:-1]) /\\\n",
    "                            average_withInit.to_numpy()[0:-1]) * 100\n",
    "improve_percent_withoutInit = ((average_withoutInit.to_numpy()[1:]  - average_withoutInit.to_numpy()[0:-1]) /\\\n",
    "                            average_withoutInit.to_numpy()[0:-1]) * 100\n",
    "\n",
    "labels = [\"10-100\", \"100-1000\", \"1000-10000\"]\n",
    "x = np.arange(len(labels))\n",
    "width = 0.35 \n",
    "fig, ax = plt.subplots(figsize = (10, 8))\n",
    "rects1 = ax.bar(x - width/2, np.round(improve_percent_withInit, decimals=6), width, label='with initialization')\n",
    "rects2 = ax.bar(x + width/2, np.round(improve_percent_withoutInit, decimals=6), width, label='without initialization')\n",
    "ax.set_title(\"Average Runtime of Elements Addition\")\n",
    "ax.set_xlabel(\"size\")\n",
    "ax.set_ylabel(\"improvement of average time\")\n",
    "ax.set_xticks(x)\n",
    "ax.set_xticklabels(labels)\n",
    "ax.legend()\n",
    "def autolabel(rects):\n",
    "    \"\"\"Attach a text label above each bar in *rects*, displaying its height.\"\"\"\n",
    "    for rect in rects:\n",
    "        height = rect.get_height()\n",
    "        ax.annotate('{}'.format(height),\n",
    "                    xy=(rect.get_x() + rect.get_width() / 2, height),\n",
    "                    xytext=(0, 3),  # 3 points vertical offset\n",
    "                    textcoords=\"offset points\",\n",
    "                    ha='center', va='bottom')\n",
    "autolabel(rects1)\n",
    "autolabel(rects2)\n",
    "\n",
    "fig.tight_layout()\n",
    "fig.savefig(\"java_arraylist_object_percentImp.eps\")\n",
    "plt.show()"
   ]
  },
  {
   "cell_type": "code",
   "execution_count": null,
   "metadata": {},
   "outputs": [],
   "source": []
  }
 ],
 "metadata": {
  "kernelspec": {
   "display_name": "Python 3",
   "language": "python",
   "name": "python3"
  },
  "language_info": {
   "codemirror_mode": {
    "name": "ipython",
    "version": 3
   },
   "file_extension": ".py",
   "mimetype": "text/x-python",
   "name": "python",
   "nbconvert_exporter": "python",
   "pygments_lexer": "ipython3",
   "version": "3.7.4"
  },
  "latex_envs": {
   "LaTeX_envs_menu_present": true,
   "autoclose": false,
   "autocomplete": true,
   "bibliofile": "biblio.bib",
   "cite_by": "apalike",
   "current_citInitial": 1,
   "eqLabelWithNumbers": true,
   "eqNumInitial": 1,
   "hotkeys": {
    "equation": "Ctrl-E",
    "itemize": "Ctrl-I"
   },
   "labels_anchors": false,
   "latex_user_defs": false,
   "report_style_numbering": false,
   "user_envs_cfg": false
  }
 },
 "nbformat": 4,
 "nbformat_minor": 2
}
