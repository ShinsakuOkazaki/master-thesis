{
 "cells": [
  {
   "cell_type": "code",
   "execution_count": 9,
   "metadata": {},
   "outputs": [],
   "source": [
    "files = {}\n",
    "for size in range(1, 5):\n",
    "    files[\"size{}\".format(size)] = []\n",
    "    for count in range(1, 6):\n",
    "        with open(\"../result/resultJavaAlloc_{}_{}.txt\".format(size, count), \"r\") as f:\n",
    "            files[\"size{}\".format(size)].append(f.readlines())"
   ]
  },
  {
   "cell_type": "code",
   "execution_count": 10,
   "metadata": {},
   "outputs": [
    {
     "data": {
      "text/plain": [
       "{'size1': [['datastructure#initialization#size#inittime#addtime#totaltime\\n',\n",
       "   '[JavaArrayList]#true#10#33032#24300#57719\\n',\n",
       "   '[JavaArrayList]#false#10#28527#18994#47869\\n'],\n",
       "  ['datastructure#initialization#size#inittime#addtime#totaltime\\n',\n",
       "   '[JavaArrayList]#true#10#33118#11546#45065\\n',\n",
       "   '[JavaArrayList]#false#10#28000#15094#43410\\n'],\n",
       "  ['datastructure#initialization#size#inittime#addtime#totaltime\\n',\n",
       "   '[JavaArrayList]#true#10#30134#10761#41285\\n',\n",
       "   '[JavaArrayList]#false#10#28727#15368#44450\\n'],\n",
       "  ['datastructure#initialization#size#inittime#addtime#totaltime\\n',\n",
       "   '[JavaArrayList]#true#10#41827#10208#52347\\n',\n",
       "   '[JavaArrayList]#false#10#29963#24120#54450\\n'],\n",
       "  ['datastructure#initialization#size#inittime#addtime#totaltime\\n',\n",
       "   '[JavaArrayList]#true#10#43375#10904#54668\\n',\n",
       "   '[JavaArrayList]#false#10#29734#15077#45201\\n']],\n",
       " 'size2': [['datastructure#initialization#size#inittime#addtime#totaltime\\n',\n",
       "   '[JavaArrayList]#true#100#30563#40143#71071\\n',\n",
       "   '[JavaArrayList]#false#100#28727#30020#59130\\n'],\n",
       "  ['datastructure#initialization#size#inittime#addtime#totaltime\\n',\n",
       "   '[JavaArrayList]#true#100#30565#28910#59843\\n',\n",
       "   '[JavaArrayList]#false#100#28690#44558#73581\\n'],\n",
       "  ['datastructure#initialization#size#inittime#addtime#totaltime\\n',\n",
       "   '[JavaArrayList]#true#100#33061#22297#55728\\n',\n",
       "   '[JavaArrayList]#false#100#28132#30883#59380\\n'],\n",
       "  ['datastructure#initialization#size#inittime#addtime#totaltime\\n',\n",
       "   '[JavaArrayList]#true#100#44333#20614#65313\\n',\n",
       "   '[JavaArrayList]#false#100#42718#45527#88607\\n'],\n",
       "  ['datastructure#initialization#size#inittime#addtime#totaltime\\n',\n",
       "   '[JavaArrayList]#true#100#33035#22454#55883\\n',\n",
       "   '[JavaArrayList]#false#100#33217#39262#72869\\n']],\n",
       " 'size3': [['datastructure#initialization#size#inittime#addtime#totaltime\\n',\n",
       "   '[JavaArrayList]#true#1000#32218#443599#476358\\n',\n",
       "   '[JavaArrayList]#false#1000#28816#504635#533935\\n'],\n",
       "  ['datastructure#initialization#size#inittime#addtime#totaltime\\n',\n",
       "   '[JavaArrayList]#true#1000#31630#454171#486382\\n',\n",
       "   '[JavaArrayList]#false#1000#30774#489159#520525\\n'],\n",
       "  ['datastructure#initialization#size#inittime#addtime#totaltime\\n',\n",
       "   '[JavaArrayList]#true#1000#32536#488880#521985\\n',\n",
       "   '[JavaArrayList]#false#1000#31550#499031#531150\\n'],\n",
       "  ['datastructure#initialization#size#inittime#addtime#totaltime\\n',\n",
       "   '[JavaArrayList]#true#1000#32893#438018#471413\\n',\n",
       "   '[JavaArrayList]#false#1000#28063#462325#490889\\n'],\n",
       "  ['datastructure#initialization#size#inittime#addtime#totaltime\\n',\n",
       "   '[JavaArrayList]#true#1000#29918#476349#506843\\n',\n",
       "   '[JavaArrayList]#false#1000#30981#500858#532294\\n']],\n",
       " 'size4': [['datastructure#initialization#size#inittime#addtime#totaltime\\n',\n",
       "   '[JavaArrayList]#true#10000#34339#3589739#3624586\\n',\n",
       "   '[JavaArrayList]#false#10000#31168#3882008#3913707\\n'],\n",
       "  ['datastructure#initialization#size#inittime#addtime#totaltime\\n',\n",
       "   '[JavaArrayList]#true#10000#35324#3555189#3591051\\n',\n",
       "   '[JavaArrayList]#false#10000#43697#3744635#3788867\\n'],\n",
       "  ['datastructure#initialization#size#inittime#addtime#totaltime\\n',\n",
       "   '[JavaArrayList]#true#10000#35854#3480168#3516569\\n',\n",
       "   '[JavaArrayList]#false#10000#29310#3764394#3794244\\n'],\n",
       "  ['datastructure#initialization#size#inittime#addtime#totaltime\\n',\n",
       "   '[JavaArrayList]#true#10000#45524#3779424#3825708\\n',\n",
       "   '[JavaArrayList]#false#10000#28491#3726733#3755736\\n'],\n",
       "  ['datastructure#initialization#size#inittime#addtime#totaltime\\n',\n",
       "   '[JavaArrayList]#true#10000#41657#3867316#3909586\\n',\n",
       "   '[JavaArrayList]#false#10000#27880#3789072#3817452\\n']]}"
      ]
     },
     "execution_count": 10,
     "metadata": {},
     "output_type": "execute_result"
    }
   ],
   "source": [
    "files"
   ]
  },
  {
   "cell_type": "code",
   "execution_count": null,
   "metadata": {},
   "outputs": [],
   "source": []
  }
 ],
 "metadata": {
  "kernelspec": {
   "display_name": "Python 3",
   "language": "python",
   "name": "python3"
  },
  "language_info": {
   "codemirror_mode": {
    "name": "ipython",
    "version": 3
   },
   "file_extension": ".py",
   "mimetype": "text/x-python",
   "name": "python",
   "nbconvert_exporter": "python",
   "pygments_lexer": "ipython3",
   "version": "3.7.4"
  }
 },
 "nbformat": 4,
 "nbformat_minor": 2
}
